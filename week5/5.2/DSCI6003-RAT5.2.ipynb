{
 "cells": [
  {
   "cell_type": "raw",
   "metadata": {},
   "source": [
    "RAT 5.2\n",
    "In terms of the Bias-Variance tradeoff, what does pruning a tree do? What does bagging do? How is a random forest different from a bagged ensemble of trees? How does it handle the bias-variance tradeoff compared to bagging?\n",
    "\n",
    "What is your favorite color for bunnies?"
   ]
  },
  {
   "cell_type": "code",
   "execution_count": null,
   "metadata": {
    "collapsed": true
   },
   "outputs": [],
   "source": [
    "The depth of tree determines its variance and pruning  is done to control or reduce variance."
   ]
  },
  {
   "cell_type": "code",
   "execution_count": null,
   "metadata": {
    "collapsed": true
   },
   "outputs": [],
   "source": [
    "Bagging makes the model more robust and is used to reduce variance and overfitting."
   ]
  },
  {
   "cell_type": "code",
   "execution_count": null,
   "metadata": {
    "collapsed": true
   },
   "outputs": [],
   "source": [
    "In random forest we also draw some random features to train the individual tree.\n",
    "Due to random feature selection trees are more independent of each other than regular bagging.\n",
    "Variance is reduced.\n",
    "It has a better predictive peformance and is also faster due to better bias- variance tradeoff.\n",
    "\n",
    "In bagged ensemble of trees we  train a number (ensemble) of decision trees from bootstrap samples of  training set.\n",
    "\n",
    "\n"
   ]
  }
 ],
 "metadata": {
  "kernelspec": {
   "display_name": "Python 2",
   "language": "python",
   "name": "python2"
  },
  "language_info": {
   "codemirror_mode": {
    "name": "ipython",
    "version": 2
   },
   "file_extension": ".py",
   "mimetype": "text/x-python",
   "name": "python",
   "nbconvert_exporter": "python",
   "pygments_lexer": "ipython2",
   "version": "2.7.10"
  }
 },
 "nbformat": 4,
 "nbformat_minor": 0
}
