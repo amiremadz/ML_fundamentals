{
 "cells": [
  {
   "cell_type": "markdown",
   "metadata": {},
   "source": [
    "# RAT 5.3-5.4\n",
    "\n",
    "Describe in your own words the Adaboost algorithm."
   ]
  },
  {
   "cell_type": "code",
   "execution_count": null,
   "metadata": {
    "collapsed": true
   },
   "outputs": [],
   "source": [
    "Adaboost algorithm is used in conjunction with other learning algorithm to improve their performance.\n",
    "It is a adaptive algorithm where in the weak learners are tweaked to improve the performance.\n",
    "for eg in decision tree it emphasize on providing each tree the mistake of the least tree in order \n",
    "to adapt and learn from the previous errors.\n",
    "The end classifier is something like a random forest, \n",
    "where each of the trees votes, weighted inversely to its own total error.\n"
   ]
  }
 ],
 "metadata": {
  "kernelspec": {
   "display_name": "Python 2",
   "language": "python",
   "name": "python2"
  },
  "language_info": {
   "codemirror_mode": {
    "name": "ipython",
    "version": 2
   },
   "file_extension": ".py",
   "mimetype": "text/x-python",
   "name": "python",
   "nbconvert_exporter": "python",
   "pygments_lexer": "ipython2",
   "version": "2.7.10"
  }
 },
 "nbformat": 4,
 "nbformat_minor": 0
}
