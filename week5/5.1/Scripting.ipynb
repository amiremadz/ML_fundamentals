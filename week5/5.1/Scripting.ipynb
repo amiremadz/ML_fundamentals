{
 "cells": [
  {
   "cell_type": "code",
   "execution_count": 44,
   "metadata": {
    "collapsed": true
   },
   "outputs": [],
   "source": [
    "\n",
    "import matplotlib.pyplot as plt\n",
    "import numpy as np\n",
    "from sklearn import datasets, linear_model\n",
    "from sklearn.ensemble import GradientBoostingRegressor\n",
    "from sklearn.ensemble import BaggingRegressor\n",
    "from sklearn.tree import DecisionTreeRegressor\n",
    "from sklearn.metrics import mean_squared_error\n",
    "from sklearn.utils import shuffle\n",
    "from sklearn.cross_validation import train_test_split\n",
    "from sklearn.ensemble import AdaBoostRegressor\n",
    "from sklearn.svm import SVR\n",
    "%matplotlib inline"
   ]
  },
  {
   "cell_type": "code",
   "execution_count": 37,
   "metadata": {
    "collapsed": false
   },
   "outputs": [],
   "source": [
    "# Load the diabetes dataset\n",
    "diabetes = datasets.load_diabetes()\n",
    "\n",
    "\n",
    "# Use only one feature\n",
    "diabetes_X = diabetes.data[:, np.newaxis, 2]\n",
    "\n",
    "# Split the data into training/testing sets\n",
    "diabetes_X_train = diabetes_X[:-20]\n",
    "diabetes_X_test = diabetes_X[-20:]\n",
    "\n",
    "# Split the targets into training/testing sets\n",
    "diabetes_y_train = diabetes.target[:-20]\n",
    "diabetes_y_test = diabetes.target[-20:]\n",
    "\n",
    "# Create linear regression object\n",
    "regr = linear_model.LinearRegression()\n",
    "rng = np.random.RandomState(1)\n",
    "\n"
   ]
  },
  {
   "cell_type": "markdown",
   "metadata": {
    "collapsed": true
   },
   "source": [
    "Applying DecisionTreeRegressor\n",
    "---"
   ]
  },
  {
   "cell_type": "code",
   "execution_count": 39,
   "metadata": {
    "collapsed": false
   },
   "outputs": [
    {
     "name": "stdout",
     "output_type": "stream",
     "text": [
      "3007.37041442\n",
      "Residual sum of squares: 3007.37\n",
      "Variance score: 0.38\n"
     ]
    },
    {
     "data": {
      "image/png": "[encoded data removed]",
      "text/plain": [
       "<matplotlib.figure.Figure at 0x7f2e084744d0>"
      ]
     },
     "metadata": {},
     "output_type": "display_data"
    }
   ],
   "source": [
    "bagging_regressor=BaggingRegressor(base_estimator=DecisionTreeRegressor(), n_estimators=4, max_samples=.70, max_features=1.0,\n",
    "                 bootstrap=True, bootstrap_features=True, oob_score=False, warm_start=False, n_jobs=1,\n",
    "                 random_state=0, verbose=0).fit(diabetes_X_train, diabetes_y_train)\n",
    "\n",
    "\n",
    "print mean_squared_error(diabetes_y_test, bagging_regressor.predict(diabetes_X_test))    \n",
    "print(\"Residual sum of squares: %.2f\"\n",
    "      % np.mean((bagging_regressor.predict(diabetes_X_test) - diabetes_y_test) ** 2))\n",
    "print('Variance score: %.2f' % bagging_regressor.score(diabetes_X_test, diabetes_y_test))\n",
    "\n",
    "# Plot outputs\n",
    "plt.scatter(diabetes_X_test, diabetes_y_test,  color='black')\n",
    "#plt.plot(diabetes_X_test, regr.predict(diabetes_X_test), color='blue',\n",
    " #        linewidth=3)\n",
    "#Bagger\n",
    "plt.plot(diabetes_X_test, bagging_regressor.predict(diabetes_X_test), color='blue',\n",
    "         linewidth=3)\n",
    "\n",
    "\n",
    "plt.xticks(())\n",
    "plt.yticks(())\n",
    "\n",
    "plt.show()"
   ]
  },
  {
   "cell_type": "markdown",
   "metadata": {
    "collapsed": true
   },
   "source": [
    "Applying GradientBoosting\n",
    "---"
   ]
  },
  {
   "cell_type": "code",
   "execution_count": 43,
   "metadata": {
    "collapsed": false
   },
   "outputs": [
    {
     "name": "stdout",
     "output_type": "stream",
     "text": [
      "2677.61998812\n",
      "Residual sum of squares: 2677.62\n",
      "Variance score: 0.45\n"
     ]
    },
    {
     "data": {
      "image/png": "[encoded data removed]",
      "text/plain": [
       "<matplotlib.figure.Figure at 0x7f2dd3f541d0>"
      ]
     },
     "metadata": {},
     "output_type": "display_data"
    }
   ],
   "source": [
    "gradient_boosting_regressor = GradientBoostingRegressor(n_estimators=100, learning_rate=0.1,max_depth=1, random_state=0,\n",
    "                                loss='ls',max_features=1,subsample=.2)\n",
    "\n",
    "bagging_regressor=BaggingRegressor(base_estimator=gradient_boosting_regressor, n_estimators=300, max_samples=.70, max_features=1.0,\n",
    "                 bootstrap=True, bootstrap_features=True, oob_score=False, warm_start=False, n_jobs=2,\n",
    "                 random_state=0, verbose=0).fit(diabetes_X_train, diabetes_y_train)\n",
    "\n",
    "\n",
    "print mean_squared_error(diabetes_y_test, bagging_regressor.predict(diabetes_X_test))    \n",
    "print(\"Residual sum of squares: %.2f\"\n",
    "      % np.mean((bagging_regressor.predict(diabetes_X_test) - diabetes_y_test) ** 2))\n",
    "print('Variance score: %.2f' % bagging_regressor.score(diabetes_X_test, diabetes_y_test))\n",
    "\n",
    "\n",
    "# Plot outputs\n",
    "plt.scatter(diabetes_X_test, diabetes_y_test,  color='black')\n",
    "plt.plot(diabetes_X_test, bagging_regressor.predict(diabetes_X_test), color='blue',\n",
    "         linewidth=3)\n",
    "\n",
    "\n",
    "plt.xticks(())\n",
    "plt.yticks(())\n",
    "\n",
    "plt.show()"
   ]
  },
  {
   "cell_type": "markdown",
   "metadata": {
    "collapsed": true
   },
   "source": [
    "Applying AdaBoostRegressor\n",
    "---"
   ]
  },
  {
   "cell_type": "code",
   "execution_count": 81,
   "metadata": {
    "collapsed": false
   },
   "outputs": [
    {
     "name": "stdout",
     "output_type": "stream",
     "text": [
      "2719.97848285\n",
      "Residual sum of squares: 2719.98\n",
      "Variance score: 0.44\n"
     ]
    }
   ],
   "source": [
    "gradient_boosting_regressor = GradientBoostingRegressor(n_estimators=100, learning_rate=0.1,max_depth=1,\n",
    "                                                        random_state=0,\n",
    "                                loss='ls',max_features=1,subsample=.5)\n",
    "ab=AdaBoostRegressor(base_estimator=gradient_boosting_regressor)\n",
    "\n",
    "\n",
    "bagging_regressor=BaggingRegressor(base_estimator=ab,max_samples=.80, max_features=1.0,\n",
    "                 bootstrap=True, bootstrap_features=True, oob_score=False, warm_start=False, n_jobs=2,\n",
    "                 random_state=0, verbose=0).fit(diabetes_X_train, diabetes_y_train)\n",
    "\n",
    "print mean_squared_error(diabetes_y_test, bagging_regressor.predict(diabetes_X_test))    \n",
    "print(\"Residual sum of squares: %.2f\"\n",
    "      % np.mean((bagging_regressor.predict(diabetes_X_test) - diabetes_y_test) ** 2))\n",
    "print('Variance score: %.2f' % bagging_regressor.score(diabetes_X_test, diabetes_y_test))\n",
    "\n"
   ]
  },
  {
   "cell_type": "markdown",
   "metadata": {},
   "source": [
    "Applying SVM\n",
    "---"
   ]
  },
  {
   "cell_type": "code",
   "execution_count": 95,
   "metadata": {
    "collapsed": false
   },
   "outputs": [
    {
     "name": "stdout",
     "output_type": "stream",
     "text": [
      "2332.20320373\n",
      "Residual sum of squares: 2332.20\n",
      "Variance score: 0.52\n"
     ]
    }
   ],
   "source": [
    "svr_regressor = SVR(C=900.0, epsilon=0.4)\n",
    "bagging_regressor=BaggingRegressor(base_estimator=svr_regressor,max_samples=.80, max_features=1.0,\n",
    "                 bootstrap=True, bootstrap_features=True, oob_score=False, warm_start=False, n_jobs=2,\n",
    "                 random_state=0, verbose=0).fit(diabetes_X_train, diabetes_y_train)\n",
    "\n",
    "print mean_squared_error(diabetes_y_test, bagging_regressor.predict(diabetes_X_test))    \n",
    "print(\"Residual sum of squares: %.2f\"\n",
    "      % np.mean((bagging_regressor.predict(diabetes_X_test) - diabetes_y_test) ** 2))\n",
    "print('Variance score: %.2f' % bagging_regressor.score(diabetes_X_test, diabetes_y_test))\n"
   ]
  },
  {
   "cell_type": "code",
   "execution_count": 106,
   "metadata": {
    "collapsed": true
   },
   "outputs": [],
   "source": [
    "svm_score=cross_val_score(bagging_regressor,diabetes_X_test,diabetes_y_test,cv=5)"
   ]
  },
  {
   "cell_type": "code",
   "execution_count": 107,
   "metadata": {
    "collapsed": false
   },
   "outputs": [
    {
     "name": "stdout",
     "output_type": "stream",
     "text": [
      "Cross validation score for SVM Bagging 0.181650761633 0.34957645354\n"
     ]
    }
   ],
   "source": [
    "print \"Cross validation score for SVM Bagging\",svm_score.mean(),svm_score.std() *2"
   ]
  },
  {
   "cell_type": "code",
   "execution_count": 108,
   "metadata": {
    "collapsed": false
   },
   "outputs": [
    {
     "data": {
      "image/png": "[encoded data removed]",
      "text/plain": [
       "<matplotlib.figure.Figure at 0x7f2dd447a190>"
      ]
     },
     "metadata": {},
     "output_type": "display_data"
    }
   ],
   "source": [
    "# Plot outputs\n",
    "plt.scatter(diabetes_X_test, diabetes_y_test,  color='black')\n",
    "plt.plot(diabetes_X_test, bagging_regressor.predict(diabetes_X_test), color='blue',\n",
    "         linewidth=3)\n",
    "\n",
    "\n",
    "plt.xticks(())\n",
    "plt.yticks(())\n",
    "\n",
    "plt.show()"
   ]
  },
  {
   "cell_type": "markdown",
   "metadata": {},
   "source": [
    "Ada Boost Regressor with SVM \n",
    "---"
   ]
  },
  {
   "cell_type": "code",
   "execution_count": 109,
   "metadata": {
    "collapsed": false
   },
   "outputs": [
    {
     "name": "stdout",
     "output_type": "stream",
     "text": [
      "2327.49301524\n",
      "Residual sum of squares: 2327.49\n",
      "Variance score: 0.52\n"
     ]
    }
   ],
   "source": [
    "svr_regressor = SVR(C=1e3, epsilon=0.4)\n",
    "\n",
    "ab=AdaBoostRegressor(base_estimator=svr_regressor, n_estimators=100, learning_rate=.2, loss='linear', random_state=None)\n",
    "bagging_regressor=BaggingRegressor(base_estimator=svr_regressor,max_samples=.70, max_features=1.0,\n",
    "                 bootstrap=True, bootstrap_features=True, oob_score=False, warm_start=True, n_jobs=2,\n",
    "                 random_state=0, verbose=0).fit(diabetes_X_train, diabetes_y_train)\n",
    "\n",
    "print mean_squared_error(diabetes_y_test, bagging_regressor.predict(diabetes_X_test))    \n",
    "print(\"Residual sum of squares: %.2f\"\n",
    "      % np.mean((bagging_regressor.predict(diabetes_X_test) - diabetes_y_test) ** 2))\n",
    "print('Variance score: %.2f' % bagging_regressor.score(diabetes_X_test, diabetes_y_test))\n"
   ]
  },
  {
   "cell_type": "code",
   "execution_count": 88,
   "metadata": {
    "collapsed": true
   },
   "outputs": [],
   "source": [
    "from sklearn.cross_validation import cross_val_score"
   ]
  },
  {
   "cell_type": "code",
   "execution_count": 93,
   "metadata": {
    "collapsed": false
   },
   "outputs": [],
   "source": [
    "ada_score=cross_val_score(bagging_regressor,diabetes_X_test,diabetes_y_test,cv=5)"
   ]
  },
  {
   "cell_type": "code",
   "execution_count": 94,
   "metadata": {
    "collapsed": false
   },
   "outputs": [
    {
     "name": "stdout",
     "output_type": "stream",
     "text": [
      "Cross validation score for AdaBoost Bagging 0.366289532459 0.67161594248\n"
     ]
    }
   ],
   "source": [
    "print \"Cross validation score for AdaBoost Bagging\",ada_score.mean(),ada_score.std() *2"
   ]
  },
  {
   "cell_type": "code",
   "execution_count": 110,
   "metadata": {
    "collapsed": false
   },
   "outputs": [
    {
     "data": {
      "image/png": "[encoded data removed]",
      "text/plain": [
       "<matplotlib.figure.Figure at 0x7f2dd5386c50>"
      ]
     },
     "metadata": {},
     "output_type": "display_data"
    }
   ],
   "source": [
    "# Plot outputs\n",
    "plt.scatter(diabetes_X_test, diabetes_y_test,  color='black')\n",
    "plt.plot(diabetes_X_test, bagging_regressor.predict(diabetes_X_test), color='blue',\n",
    "         linewidth=3)\n",
    "\n",
    "\n",
    "plt.xticks(())\n",
    "plt.yticks(())\n",
    "\n",
    "plt.show()"
   ]
  },
  {
   "cell_type": "markdown",
   "metadata": {},
   "source": [
    "Analysis\n",
    "---"
   ]
  },
  {
   "cell_type": "code",
   "execution_count": null,
   "metadata": {
    "collapsed": true
   },
   "outputs": [],
   "source": [
    "I applied different Bagged regressor with different regression model\n",
    "Splitted into 2 jobs in some cases to make processing faster.\n",
    "\n",
    "Applied below models\n",
    "\n",
    ">DecisionTreeRegressor\n",
    ">Gradient Boosting\n",
    ">SVM\n",
    ">Ada Boost Regressor\n",
    ">Ada Boost Regressor with SVM.\n",
    "\n",
    "THe best performance was given by SVM Model.\n",
    "Error=2332\n",
    "Variance Score = .52"
   ]
  }
 ],
 "metadata": {
  "kernelspec": {
   "display_name": "Python 2",
   "language": "python",
   "name": "python2"
  },
  "language_info": {
   "codemirror_mode": {
    "name": "ipython",
    "version": 2
   },
   "file_extension": ".py",
   "mimetype": "text/x-python",
   "name": "python",
   "nbconvert_exporter": "python",
   "pygments_lexer": "ipython2",
   "version": "2.7.10"
  }
 },
 "nbformat": 4,
 "nbformat_minor": 0
}
