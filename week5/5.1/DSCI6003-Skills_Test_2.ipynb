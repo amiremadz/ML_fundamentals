{
 "cells": [
  {
   "cell_type": "markdown",
   "metadata": {},
   "source": [
    "# DSCI 6003 Skills Test 2"
   ]
  },
  {
   "cell_type": "markdown",
   "metadata": {},
   "source": [
    "## Short-Form Answers - Choose four\n",
    "#### None of these should take more than 10 minutes to answer."
   ]
  },
  {
   "cell_type": "markdown",
   "metadata": {},
   "source": [
    "1) Describe in your own words the Hypothesis of SVM classifiers and why this provides them a special advantage, with regards to imbalanced classes."
   ]
  },
  {
   "cell_type": "markdown",
   "metadata": {},
   "source": [
    "#Answer1)\n",
    "\n",
    "Hypothesis of SVM is we want to find a hyperplane which separates the two class.\n",
    "Variables can be classified in terms of a plane separating them.\n",
    "We seek to produce a hyperplane that maximizes the distance between a training example of\n",
    "any given class and itself.\n",
    "Equation of plane is given as \n",
    "\n",
    "$$ |\\beta_0 + \\textbf{$\\beta^{T}$}\\textbf{x}| = 1 $$\n",
    "\n",
    "in the above equation x is the support vector.\n",
    "\n",
    "SVM has a advantage in comparison to other classifiers in case of imbalanced class because in SVM we construct a\n",
    "hyperplane to maximize the margin.(can be calles as soft margin).\n",
    "Also only support vectors are used for classification and many majority sample far from the decision boundary can\n",
    "be removed.\n",
    "\n",
    "\n"
   ]
  },
  {
   "cell_type": "markdown",
   "metadata": {},
   "source": [
    "2) Write the pseudocode for an SVM classifier, in both the fit and predict phases. You don't need to write the convex optimization, just what comes out of it. "
   ]
  },
  {
   "cell_type": "markdown",
   "metadata": {},
   "source": [
    "3) Why is it usually a good idea to scale data before using it to train a SVM?"
   ]
  },
  {
   "cell_type": "code",
   "execution_count": null,
   "metadata": {
    "collapsed": true
   },
   "outputs": [],
   "source": [
    "#Answer3)\n",
    "It is better to scale the data before using it to train because it improves the performance of the SVM Model\n",
    "and its accuracy.\n",
    "Scaling is important in case of variables with large variances. \n",
    "The main advantage of scaling is to avoid attributes in greater numeric ranges \n",
    "dominating those in smaller numeric ranges.\n",
    "Another advantage is to avoid numerical diculties during the \n",
    "calculation."
   ]
  },
  {
   "cell_type": "markdown",
   "metadata": {},
   "source": [
    "4) Why do we normally use \"soft margins\" in a SVM? How do we implement them? What hyperparameter do we use in SVMs to control the soft margins? How does it work? What would happen with \"hard margins\"?"
   ]
  },
  {
   "cell_type": "markdown",
   "metadata": {},
   "source": [
    "5) Describe example use cases, weaknesses and strengths of multiclass SVMs. What types of problems do we use these for?"
   ]
  },
  {
   "cell_type": "markdown",
   "metadata": {},
   "source": [
    "6) What is the \"trick\" in the kernel trick? What do we use the kernel trick for?"
   ]
  },
  {
   "cell_type": "code",
   "execution_count": null,
   "metadata": {
    "collapsed": true
   },
   "outputs": [],
   "source": [
    "#Answer6)\n",
    "\n",
    "Kernel trick is basically transformation of input data into higher dimension\n",
    "which helps in identifying the linear separation of data.\n",
    "\n",
    "Many times we can have non linear boundaries separating the different labels or classes.\n",
    "Now kernel trick is done to get the linear boundary or a hyperplane to separate different classes.\n",
    "Applying kernel trick we can increase the dimension of the data set and then get a hyperplane as the decision\n",
    "boundary."
   ]
  },
  {
   "cell_type": "markdown",
   "metadata": {},
   "source": [
    "7) Suppose we have an SVC fully trained on one set of data and then we add more training points afterwards. The additional training points include bias towards one class but have higher variance than either. What happens to the support vectors when we refit on the new points? What happens to the precision and accuracy of the classifier? There is a related question below that might make this answer easier."
   ]
  },
  {
   "cell_type": "markdown",
   "metadata": {},
   "source": [
    "8)  Describe Bagging and give 2 example use cases for bagging with a standard classifier (not Random Forests)."
   ]
  },
  {
   "cell_type": "markdown",
   "metadata": {},
   "source": [
    "9) Write the pseudocode for the construction of a decision tree in both the fit and predict phases."
   ]
  },
  {
   "cell_type": "markdown",
   "metadata": {},
   "source": [
    "10) What are the Gini index and Entropy used to measure in the construction of decision trees? By this, we mean what is the overall quanitity that we measure with these measures."
   ]
  },
  {
   "cell_type": "code",
   "execution_count": null,
   "metadata": {
    "collapsed": true
   },
   "outputs": [],
   "source": [
    "#Answer10)\n",
    "\n",
    "Gini Index: The Gini impurity is another way of measuring which split is the best.\n",
    "    It's a measure of this probability:\n",
    "    \n",
    "    Take a random element from the set\n",
    "    Label it randomly according to the distribution of labels in the set\n",
    "    What is the probability that it is labeled incorrectly.\n",
    "\n",
    "    \n",
    "Entropy : It is a measure of disorder,uncertainity or surprise.When we create decision \n",
    "    tree we try to create the split which \n",
    "    minimizes the entropy.It is one of the criteria to split the decision tree node.\n",
    "    If a set has same label then it has low entropy while if it has a mix of label then high entropy.\n",
    "    \n",
    "If the split is good then model has a better predictive power.\n",
    "\n",
    "We are measuring the information gain\n",
    "\n",
    "In order to pick which feature to split on, \n",
    "we need a way of measuring how good the split is. This is what information gain is used for and measured by entropy \n",
    "and gini impurity."
   ]
  },
  {
   "cell_type": "markdown",
   "metadata": {},
   "source": [
    "## Scripting - Choose one\n",
    "#### Should take about an hour - make sure to reuse and cite the scikit code!!"
   ]
  },
  {
   "cell_type": "markdown",
   "metadata": {},
   "source": [
    "A) Write a simulation of what happens in 7). You will want to generate points with the make_classification method (or some other method if you prefer) in scikit. For every cycle, add a small number of additional points to the input data that come from a slightly different distribution (use slightly different parameters). Use [the starting code here](http://scikit-learn.org/stable/auto_examples/svm/plot_svm_margin.html) for plots of the decision function and support vectors."
   ]
  },
  {
   "cell_type": "markdown",
   "metadata": {},
   "source": [
    "B) Given [the starter code for a single regression](http://scikit-learn.org/stable/auto_examples/linear_model/plot_ols.html), create a bagged regression for the first feature of the diabetes dataset. Make sure to keep a train-test split. Maximize the accuracy and precision of your method using all tools you have been given. You must validate your results. You may use anything you can find in scikit-learn to make this faster. "
   ]
  },
  {
   "cell_type": "code",
   "execution_count": null,
   "metadata": {
    "collapsed": false
   },
   "outputs": [],
   "source": []
  },
  {
   "cell_type": "markdown",
   "metadata": {},
   "source": [
    "## Coding\n",
    "#### Should take about an hour\n",
    "\n",
    "The decision tree solution code is in the test folder. Use this to produce a subclass of BinaryTree called kExtremeTree. You will override the `_choose_split_index` function to select k randomly selected features (so this would be the split index i in `_make_split`) instead of going over the entire matrix, and of these k randomly selected features, pick the best split among the k features (instead of the best split among every possible feature). Make sure to include k as a user-defined input. If k is larger than the number of features, make sure to raise an exception. \n",
    "\n",
    "If you have pruning finished, you should definitely include a pruning method in with your trees.\n",
    "\n",
    "Now create a random forest subclass called kExtremeForest using these trees and produce metrics for performance. How does it perform?"
   ]
  },
  {
   "cell_type": "markdown",
   "metadata": {},
   "source": [
    "## Data Science \n",
    "#### Time will vary \n",
    "\n",
    "If you can solve the below problem, you may start calling yourself a data scientist. :)\n",
    "\n",
    "Using the below analysis as a starting point, produce a prediction for the age of abalone based on their sex and shell measurements 1-5. You may use any classifier or preprocessing method you know. You may grid search to optimize parameters. Make sure to validate your model and substantiate your reasoning.\n",
    "\n",
    "If you cannot produce a useful classifier, write a short report as to why."
   ]
  },
  {
   "cell_type": "code",
   "execution_count": 78,
   "metadata": {
    "collapsed": false
   },
   "outputs": [
    {
     "data": {
      "image/png": "[encoded data removed]",
      "text/plain": [
       "<matplotlib.figure.Figure at 0x7f321f033e90>"
      ]
     },
     "metadata": {},
     "output_type": "display_data"
    }
   ],
   "source": [
    "%matplotlib inline\n",
    "import pandas as pd\n",
    "import sklearn.decomposition as skd\n",
    "from sklearn import svm\n",
    "from sklearn import metrics\n",
    "from sklearn.cross_validation import train_test_split\n",
    "import sklearn.preprocessing as pps\n",
    "\n",
    "\n",
    "df = pd.read_csv('./data/abalone.csv')\n",
    "\n",
    "sex = df['sex'].values\n",
    "age = df['age'].values\n",
    "raw_measurements = df[['1','2','3','4','5']]\n",
    "males = df[df['sex']=='M']\n",
    "females = df[df['sex']=='F']\n",
    "\n",
    "raw_measurements.head\n",
    "\n",
    "X = pps.scale(raw_measurements)\n",
    "y = age\n",
    "\n",
    "X_train, X_test, y_train, y_test = train_test_split(X, y, test_size=0.2)\n",
    "\n",
    "from sklearn import datasets\n",
    "from sklearn import linear_model\n",
    "import matplotlib.pyplot as plt\n",
    "\n",
    "model = linear_model.LinearRegression()\n",
    "boston = datasets.load_boston()\n",
    "y = boston.target\n",
    "\n",
    "\n",
    "# cross_val_predict returns an array of the same size as `y` where each entry\n",
    "# is a prediction obtained by cross validated:\n",
    "clf = model.fit(X_train, y_train)\n",
    "predicted = clf.predict(X_test)\n",
    "\n",
    "fig, ax = plt.subplots()\n",
    "ax.scatter(y_test, predicted)\n",
    "ax.plot([y_test.min(), y_test.max()], [y_test.min(), y_test.max()], 'k--', lw=4)\n",
    "ax.set_xlabel('Measured')\n",
    "ax.set_ylabel('Predicted')\n",
    "plt.show()"
   ]
  },
  {
   "cell_type": "code",
   "execution_count": null,
   "metadata": {
    "collapsed": true
   },
   "outputs": [],
   "source": []
  }
 ],
 "metadata": {
  "kernelspec": {
   "display_name": "Python 2",
   "language": "python",
   "name": "python2"
  },
  "language_info": {
   "codemirror_mode": {
    "name": "ipython",
    "version": 2
   },
   "file_extension": ".py",
   "mimetype": "text/x-python",
   "name": "python",
   "nbconvert_exporter": "python",
   "pygments_lexer": "ipython2",
   "version": "2.7.10"
  }
 },
 "nbformat": 4,
 "nbformat_minor": 0
}
