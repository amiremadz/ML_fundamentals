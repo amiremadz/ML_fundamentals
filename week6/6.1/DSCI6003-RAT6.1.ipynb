{
 "cells": [
  {
   "cell_type": "markdown",
   "metadata": {},
   "source": [
    "RAT 6.1\n",
    "\n",
    "What did you do for Thanksgiving?\n",
    "\n",
    "What is the difference between a supervized and unsupervized learning?\n",
    "\n",
    "How do you know if your unsupervized learning technique is working?\n",
    "\n",
    "What are pros and cons of reducing an unsupervized learning problem to a supervized problem?"
   ]
  },
  {
   "cell_type": "code",
   "execution_count": null,
   "metadata": {
    "collapsed": true
   },
   "outputs": [],
   "source": [
    "eating, party  and sleeping during thanks giving :)"
   ]
  },
  {
   "cell_type": "code",
   "execution_count": null,
   "metadata": {
    "collapsed": true
   },
   "outputs": [],
   "source": [
    "In supervised learning we have labeled data while in unsupervised learning we have unlabeled data.\n",
    "In supervised learning we predict the class but in unsupervised learning we group it into different clusters."
   ]
  },
  {
   "cell_type": "code",
   "execution_count": null,
   "metadata": {
    "collapsed": true
   },
   "outputs": [],
   "source": [
    "If we are able to distinguish different groups or clusters which have certain similarity.\n",
    "We can label some of the sample and test on that."
   ]
  },
  {
   "cell_type": "code",
   "execution_count": null,
   "metadata": {
    "collapsed": true
   },
   "outputs": [],
   "source": [
    "Pros is it is easier to test the model performannce and \n",
    "Cons is sometime it may be difficult for the decision boundary to differentiate between different clusters."
   ]
  }
 ],
 "metadata": {
  "kernelspec": {
   "display_name": "Python 2",
   "language": "python",
   "name": "python2"
  },
  "language_info": {
   "codemirror_mode": {
    "name": "ipython",
    "version": 2
   },
   "file_extension": ".py",
   "mimetype": "text/x-python",
   "name": "python",
   "nbconvert_exporter": "python",
   "pygments_lexer": "ipython2",
   "version": "2.7.10"
  }
 },
 "nbformat": 4,
 "nbformat_minor": 0
}
