{
 "cells": [
  {
   "cell_type": "raw",
   "metadata": {},
   "source": [
    "RAT 6.3\n",
    "Does k-means suffer from the curse of dimensionality? If it did, what would that mean in the context of an unsupervised learning problem? What are other methods of clustering for use with high-dimensional data?\n",
    "\n",
    "What was your favorite company that presented on Tues? Why?"
   ]
  },
  {
   "cell_type": "code",
   "execution_count": null,
   "metadata": {
    "collapsed": true
   },
   "outputs": [],
   "source": [
    "yes k-means suffer from curse of dimensionality. In context of unsupervised learning we have clusters which\n",
    "are group together based on certain similarity. but in curse of dimensionality as there is increase in number of\n",
    "dimension has a effect on distance of similarity. So a cluster which has group of objects that are related may\n",
    "have also the objects which are not co-related.THe attributes may not be meaningful to a given cluster.\n",
    "\n",
    "\n",
    "Other methods of clustering for use with high dimensional data is Grid based clustering , \n",
    "may be deep learning and neural network.\n",
    "\n",
    "#Reference taken from the below link for other approaches of high dimensional clustering\n",
    "#http://www-users.cs.umn.edu/~kumar/papers/high_dim_clustering_19.pdf\n",
    "\n",
    "Favorite Company : Orchard : Design from scratch and the problem of price modelling looks interesting.\n",
    "\n"
   ]
  }
 ],
 "metadata": {
  "kernelspec": {
   "display_name": "Python 2",
   "language": "python",
   "name": "python2"
  },
  "language_info": {
   "codemirror_mode": {
    "name": "ipython",
    "version": 2
   },
   "file_extension": ".py",
   "mimetype": "text/x-python",
   "name": "python",
   "nbconvert_exporter": "python",
   "pygments_lexer": "ipython2",
   "version": "2.7.10"
  }
 },
 "nbformat": 4,
 "nbformat_minor": 0
}
