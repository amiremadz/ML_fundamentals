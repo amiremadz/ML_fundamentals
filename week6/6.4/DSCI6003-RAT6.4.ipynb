{
 "cells": [
  {
   "cell_type": "markdown",
   "metadata": {},
   "source": [
    "RAT 6.4\n",
    "\n",
    "What is a multivariate Gaussian distribution?\n",
    "\n",
    "What does it mean when a dataset modeled as a mixture of Gaussians? Is this different from when the dataset is modeled using k-means clustering? Roughly speaking, what do clusters look like in 2 dimensional space, using a mixture of Gaussians, and using k-means clustering?\n",
    "\n",
    "How does the expectation maximization paradigm recast an MLE method that is useful for a supervised learning problem into something useful for unsupervised learning (\"soft clustering\")?\n",
    "\n",
    "---\n",
    "\n",
    "Recursion:\n",
    "Give the recursive definition of a Binary Search Tree.\n",
    "Write a recursive function definition for function search(root, key) in Python that takes the root of a binary search tree and a key and returns the root of the subtree of root containing key, or raises a KeyError.\n",
    "\n",
    "What are the performance guarantees on the search function?"
   ]
  },
  {
   "cell_type": "markdown",
   "metadata": {
    "collapsed": true
   },
   "source": [
    "###Answer1)\n",
    "\n",
    "A vector-valued random variable \n",
    "$X =[X1 · · · Xn]^T$\n",
    "is said to have a multivariate  Gaussian distribution with mean µ ∈ Rn and covariance matrix Σ ∈ S\n",
    "\n",
    "if its probability density function2\n",
    "is given by\n",
    "\n",
    "$$p_k(X|\\theta_{k}) = \\frac{1}{(2\\pi)^{d/2}|\\Sigma_{k}|^{1/2}}e^{-\\frac{1}{2}(X-\\mu_k)^{T}\\Sigma_{k}^{-1}(X-\\mu_k)} = \\phi(\\theta, x_{i})$$ \n",
    "\n",
    "With its own set of parameters $$\\theta_{k} = \\mu_k, \\Sigma_{k}$$ "
   ]
  },
  {
   "cell_type": "code",
   "execution_count": null,
   "metadata": {
    "collapsed": true
   },
   "outputs": [],
   "source": [
    "###Answer2)\n",
    "\n",
    "A Gaussian mixture model is a probabilistic model that \n",
    "assumes all the data points are generated from a mixture of \n",
    "a finite number of Gaussian distributions with unknown parameters.\n",
    "It is  mixture models as generalizing k-means clustering \n",
    "to incorporate information about the covariance structure of the data \n",
    "as well as the centers of the latent Gaussians.\n",
    "\n",
    "yes it is different from k means.\n",
    "Gaussian is more robust because it is a soft model \n",
    "\n",
    "IN 2 dimensional mixture gussian model looks like spherical while\n",
    "k - means looks like circular."
   ]
  },
  {
   "cell_type": "code",
   "execution_count": null,
   "metadata": {
    "collapsed": true
   },
   "outputs": [],
   "source": [
    "###Answer3)\n",
    "\n",
    "Its avoid missing data . We introduce dummy variable."
   ]
  },
  {
   "cell_type": "code",
   "execution_count": null,
   "metadata": {
    "collapsed": true
   },
   "outputs": [],
   "source": [
    "###Answer4)\n",
    "\n",
    "#reference taken from wiki\n",
    "\n",
    "Binary search trees keep their keys in sorted order,\n",
    "so that lookup and other operations can use the principle of binary search:\n",
    "when looking for a key in a tree (or a place to insert a new key), \n",
    "they traverse the tree from root to leaf, making comparisons to keys stored in the \n",
    "nodes of the tree and deciding, based on the comparison,\n",
    "to continue searching in the left or right subtrees. \n",
    "\n",
    "\n",
    "def search_recursively(key, node):\n",
    "     if node is None or node.key == key:\n",
    "         return node\n",
    "         elif key < node.key:\n",
    "         return search_recursively(key, node.left)\n",
    "     else:  # key > node.key\n",
    "         return search_recursively(key, node.right)"
   ]
  }
 ],
 "metadata": {
  "kernelspec": {
   "display_name": "Python 2",
   "language": "python",
   "name": "python2"
  },
  "language_info": {
   "codemirror_mode": {
    "name": "ipython",
    "version": 2
   },
   "file_extension": ".py",
   "mimetype": "text/x-python",
   "name": "python",
   "nbconvert_exporter": "python",
   "pygments_lexer": "ipython2",
   "version": "2.7.10"
  }
 },
 "nbformat": 4,
 "nbformat_minor": 0
}
