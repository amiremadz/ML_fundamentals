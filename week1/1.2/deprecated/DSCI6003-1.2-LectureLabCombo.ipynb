{
 "cells": [
  {
   "cell_type": "markdown",
   "metadata": {},
   "source": [
    "#_K_ Nearest  Neighbors Classifier"
   ]
  },
  {
   "cell_type": "markdown",
   "metadata": {},
   "source": [
    "##Classification Problem"
   ]
  },
  {
   "cell_type": "markdown",
   "metadata": {},
   "source": [
    "The task of a classification algorithm or _classifier_ is to predict the _label_ or _class_ for a given unlabeled data point. Mathematically, a classifier is a function or model $f$ that predicts the class label  for a given input example $\\bf x$, that is"
   ]
  },
  {
   "cell_type": "markdown",
   "metadata": {},
   "source": [
    "$$\\hat{y} = f({\\bf x})$$"
   ]
  },
  {
   "cell_type": "markdown",
   "metadata": {},
   "source": [
    "The value $\\hat{y}$ belongs to a set $\\{c_1,c_2,...,c_k\\}$ and each $c_i$ is a class label."
   ]
  },
  {
   "cell_type": "markdown",
   "metadata": {},
   "source": [
    "To build the model we require a set of points with known class labels, which is called a _training set_. Once the model $f$ is known, we can automatically predict the class for any new data point."
   ]
  },
  {
   "cell_type": "markdown",
   "metadata": {},
   "source": [
    "####Fisher's Iris Data Set"
   ]
  },
  {
   "cell_type": "markdown",
   "metadata": {},
   "source": [
    "Following table shows an extract of the Iris dataset; the complete data forms a $150\\times 4$ data matrix. Each entity is an Iris flower, and the attributes include _sepal length_, _sepal width_, _petal length_, and _petal width_ in centimeters, and the type or class of the Iris flower."
   ]
  },
  {
   "cell_type": "markdown",
   "metadata": {},
   "source": [
    "<img src=\"imgs/iris_data_table.png\" width=350/>"
   ]
  },
  {
   "cell_type": "markdown",
   "metadata": {},
   "source": [
    "The classifier algorithm will _learn_ from this data and predict the class of new data set with unknown class."
   ]
  },
  {
   "cell_type": "markdown",
   "metadata": {},
   "source": [
    "##_K_ Nearest  Neighbors"
   ]
  },
  {
   "cell_type": "markdown",
   "metadata": {},
   "source": [
    "For fixed $K$, _the KNN classifier predicts the class of $\\bf x$ as the majority class among its $K$ nearest neighbors_."
   ]
  },
  {
   "cell_type": "markdown",
   "metadata": {},
   "source": [
    "<img src=\"imgs/knn_cartoon.png\"/ width=300>"
   ]
  },
  {
   "cell_type": "markdown",
   "metadata": {},
   "source": [
    "$K$ is a hyperparamter for the claissifier. The predicted class can be different for different values of $K$. For binary classification tasks, odd values of $K = 1,3,5,\\cdots$ are used to avoid ties, i.e., two class labels achieving the same score. For more than two classes, ties can be broken at random. The particular case of $K = 1$ is called the _nearest-neighbour_ rule, because a test point is simply assigned to the same class as the nearest point from the training set."
   ]
  },
  {
   "cell_type": "markdown",
   "metadata": {},
   "source": [
    "###Distance Metrics"
   ]
  },
  {
   "cell_type": "markdown",
   "metadata": {},
   "source": [
    "As explained above, KNN algorithm assigns a class to the test point based on the majority class of $K$ nearest neighbours. In general, euclidean distance is used to find nearest neighbours, but other distance metrics can also be used."
   ]
  },
  {
   "cell_type": "markdown",
   "metadata": {},
   "source": [
    "As the dimensionality of the feature space increases, the euclidean distance becomes problematic due to _curse of dimensionality_ (discussed later). In such cases, typically vector-based similarity measures (dot product, cosine similarity, etc) are used to find nearest neighbours."
   ]
  },
  {
   "cell_type": "markdown",
   "metadata": {},
   "source": [
    "###Algorithm"
   ]
  },
  {
   "cell_type": "markdown",
   "metadata": {},
   "source": [
    "KNN algorithm is very simple to implement. The model does not need to be trained. We just need to store the data. For a test data point, we calculate the distance of that data point to every existing data point and find the $K$ closest ones. Here's the pseudocode for _K_ Nearest Neighbors:"
   ]
  },
  {
   "cell_type": "markdown",
   "metadata": {},
   "source": [
    "```\n",
    "kNN:\n",
    "    for every point in the dataset:\n",
    "        calculate the distance between the point and x\n",
    "        sort the distances in increasing order\n",
    "        take the k items with the smallest distances to x\n",
    "        return the majority class among these k items\n",
    "```"
   ]
  },
  {
   "cell_type": "markdown",
   "metadata": {},
   "source": [
    "Note that, for large data sets, the algorithm can take very long to classify becuase it has to calculate the distance between the test point and evey other point in the data!"
   ]
  },
  {
   "cell_type": "markdown",
   "metadata": {},
   "source": [
    "###Accuracy and Error Rate"
   ]
  },
  {
   "cell_type": "markdown",
   "metadata": {},
   "source": [
    "We can assess the performance of a classifier by looking at the _error rate_ and _accuracy_ which are defined as follows."
   ]
  },
  {
   "cell_type": "markdown",
   "metadata": {},
   "source": [
    "The error rate is the fraction of incorrect predictions over the testing set. Mathematically, we can express this as"
   ]
  },
  {
   "cell_type": "markdown",
   "metadata": {},
   "source": [
    "$$\\text{Error Rate } = \\frac{1}{n} \\sum_{i=1}^n I(y_i \\ne \\hat{y}_i)$$"
   ]
  },
  {
   "cell_type": "markdown",
   "metadata": {},
   "source": [
    "where $I$ is an _indicator function_ that has the value $1$ when its argument is true, and $0$ otherwise."
   ]
  },
  {
   "cell_type": "markdown",
   "metadata": {},
   "source": [
    "The accuracy of a classifier is the fraction of correct predictions over the testing set:"
   ]
  },
  {
   "cell_type": "markdown",
   "metadata": {},
   "source": [
    "$$\\text{Accuracy } = \\frac{1}{n} \\sum_{i=1}^n I(y_i = \\hat{y}_i) = 1 - \\text{Error Rate}$$"
   ]
  },
  {
   "cell_type": "markdown",
   "metadata": {},
   "source": [
    "##KNN Implementation"
   ]
  },
  {
   "cell_type": "markdown",
   "metadata": {},
   "source": [
    "For this exercise, we'll use Fisher's Iris Data Set:"
   ]
  },
  {
   "cell_type": "code",
   "execution_count": 1,
   "metadata": {
    "collapsed": true
   },
   "outputs": [],
   "source": [
    "from sklearn import datasets\n",
    "iris = datasets.load_iris()\n",
    "\n",
    "#print iris.DESCR"
   ]
  },
  {
   "cell_type": "code",
   "execution_count": 2,
   "metadata": {
    "collapsed": true
   },
   "outputs": [],
   "source": [
    "X = iris.data\n",
    "y = iris.target\n",
    "y_name = iris.target_names\n",
    "\n",
    "#print X[:5]\n",
    "#print y_name"
   ]
  },
  {
   "cell_type": "code",
   "execution_count": 4,
   "metadata": {
    "collapsed": false
   },
   "outputs": [
    {
     "data": {
      "image/png": "[encoded data removed]",
      "text/plain": [
       "<matplotlib.figure.Figure at 0x107610710>"
      ]
     },
     "metadata": {},
     "output_type": "display_data"
    }
   ],
   "source": [
    "import matplotlib.pyplot as plt\n",
    "%matplotlib inline\n",
    "\n",
    "plt.plot(X[:,0], X[:,1], '.');"
   ]
  },
  {
   "cell_type": "markdown",
   "metadata": {},
   "source": [
    "##Exercise"
   ]
  },
  {
   "cell_type": "markdown",
   "metadata": {},
   "source": [
    "- Implement the class `KNearestNeighbors`. We are going to write our code similar to how sklearn does. So you should be able to run your code like this:\n",
    "```python\n",
    "knn = KNearestNeighbors(k=3, distance=euclidean_distance)\n",
    "knn.fit(X, y)\n",
    "y_predict = knn.predict(X)\n",
    "```"
   ]
  },
  {
   "cell_type": "markdown",
   "metadata": {},
   "source": [
    "- Implement the function `euclidean_distance` which computes the Euclidean distance between two numpy arrays. Euclidean distance only works for continuous features."
   ]
  },
  {
   "cell_type": "markdown",
   "metadata": {},
   "source": [
    "$$dist({\\bf a}, {\\bf b}) = \\| {\\bf a} - {\\bf b} \\| = \\sqrt{({\\bf a} - {\\bf b})^T ({\\bf a} - {\\bf b})}$$"
   ]
  },
  {
   "cell_type": "code",
   "execution_count": 4,
   "metadata": {
    "collapsed": true
   },
   "outputs": [],
   "source": [
    "def euclidean_distance(a, b):\n",
    "    # translate the function written above directly into code given two lists \n",
    "    # or vectors a and b. If you wish to use numpy vector math, you'll need to ensure that \n",
    "    # these two vectors are np.array()s\n",
    "    \n",
    "    #return the distance (a single scalar)\n",
    "    pass"
   ]
  },
  {
   "cell_type": "markdown",
   "metadata": {},
   "source": [
    "- Implement `cosine_distance` which computes the cosine similarity between the two vectors."
   ]
  },
  {
   "cell_type": "markdown",
   "metadata": {},
   "source": [
    "$$dist({\\bf a}, {\\bf b}) = \\frac{{\\bf a}^T {\\bf b}}{\\| {\\bf a} \\| \\| {\\bf b} \\|}$$"
   ]
  },
  {
   "cell_type": "code",
   "execution_count": 5,
   "metadata": {
    "collapsed": true
   },
   "outputs": [],
   "source": [
    "def cosine_distance(a, b):\n",
    "    # translate the function written above directly into code given two lists \n",
    "    # or vectors a and b. If you wish to use numpy vector math, you'll need to ensure that \n",
    "    # these two vectors are np.array()s\n",
    "    \n",
    "    #return the distance (a single scalar)\n",
    "    pass"
   ]
  },
  {
   "cell_type": "code",
   "execution_count": 6,
   "metadata": {
    "collapsed": true
   },
   "outputs": [],
   "source": [
    "class KNearestNeighbors(object):\n",
    "    def __init__(self, k=5, distance=euclidean_distance):\n",
    "        #store the relevant parameters in this init block\n",
    "        \n",
    "        pass\n",
    "\n",
    "    def fit(self, X, y):\n",
    "        #In this case the fit function simply stores the data into the class\n",
    "        pass\n",
    "\n",
    "    def classify(self, x):\n",
    "        \n",
    "        pass\n",
    "\n",
    "    def predict(self, X):\n",
    "        pass"
   ]
  },
  {
   "cell_type": "code",
   "execution_count": 7,
   "metadata": {
    "collapsed": true
   },
   "outputs": [],
   "source": [
    "def error_rate(y_test, y_pred):\n",
    "    pass\n",
    "\n",
    "def accuracy(y_test, y_pred):\n",
    "    pass"
   ]
  }
 ],
 "metadata": {
  "kernelspec": {
   "display_name": "Python 2",
   "language": "python",
   "name": "python2"
  },
  "language_info": {
   "codemirror_mode": {
    "name": "ipython",
    "version": 2
   },
   "file_extension": ".py",
   "mimetype": "text/x-python",
   "name": "python",
   "nbconvert_exporter": "python",
   "pygments_lexer": "ipython2",
   "version": "2.7.9"
  }
 },
 "nbformat": 4,
 "nbformat_minor": 0
}
