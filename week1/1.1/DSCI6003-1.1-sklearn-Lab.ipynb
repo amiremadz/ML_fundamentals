{
 "cells": [
  {
   "cell_type": "markdown",
   "metadata": {},
   "source": [
    "## Machine Learning with `sklearn`\n",
    "\n",
    "`sklearn` is a best-in-breed machine learning library for Python that we will use extensively in this class.  It also has one of the best APIs designs out there (with a [paper](http://arxiv.org/pdf/1309.0238.pdf) even written about the design) and is very modular and flexible.  As such it has a bit of a learning curve, but once you can think in the `sklearn` way for one algorithm/model you can apply that general knowledge to any model."
   ]
  },
  {
   "cell_type": "code",
   "execution_count": 1,
   "metadata": {
    "collapsed": false
   },
   "outputs": [],
   "source": [
    "import pandas as pd\n",
    "import numpy as np"
   ]
  },
  {
   "cell_type": "markdown",
   "metadata": {},
   "source": [
    "### Getting Data\n",
    "\n",
    "Typically you have an external dataset that you will be working with and even if it is clean, you will need to manipulate/transform it to create features.  And as such you will load your dataset with something like `numpy` or `pandas`\n",
    "\n",
    "We will be performing a simple linear regression on a Lending Club [dataset](https://www.lendingclub.com/info/download-data.action) of interest rates for individual loans.  To start we will need to slightly prepare our data with `pandas` to get it ready for our model."
   ]
  },
  {
   "cell_type": "code",
   "execution_count": 2,
   "metadata": {
    "collapsed": false
   },
   "outputs": [
    {
     "data": {
      "text/html": [
       "<div style=\"max-height:1000px;max-width:1500px;overflow:auto;\">\n",
       "<table border=\"1\" class=\"dataframe\">\n",
       "  <thead>\n",
       "    <tr style=\"text-align: right;\">\n",
       "      <th></th>\n",
       "      <th>Interest.Rate</th>\n",
       "      <th>FICO.Score</th>\n",
       "      <th>Loan.Length</th>\n",
       "      <th>Monthly.Income</th>\n",
       "      <th>Loan.Amount</th>\n",
       "    </tr>\n",
       "  </thead>\n",
       "  <tbody>\n",
       "    <tr>\n",
       "      <th>0</th>\n",
       "      <td> 15.31</td>\n",
       "      <td> 670</td>\n",
       "      <td> 36</td>\n",
       "      <td>  4891.67</td>\n",
       "      <td>  6000</td>\n",
       "    </tr>\n",
       "    <tr>\n",
       "      <th>1</th>\n",
       "      <td> 19.72</td>\n",
       "      <td> 670</td>\n",
       "      <td> 36</td>\n",
       "      <td>  3575.00</td>\n",
       "      <td>  2000</td>\n",
       "    </tr>\n",
       "    <tr>\n",
       "      <th>2</th>\n",
       "      <td> 14.27</td>\n",
       "      <td> 665</td>\n",
       "      <td> 36</td>\n",
       "      <td>  4250.00</td>\n",
       "      <td> 10625</td>\n",
       "    </tr>\n",
       "    <tr>\n",
       "      <th>3</th>\n",
       "      <td> 21.67</td>\n",
       "      <td> 670</td>\n",
       "      <td> 60</td>\n",
       "      <td> 14166.67</td>\n",
       "      <td> 28000</td>\n",
       "    </tr>\n",
       "    <tr>\n",
       "      <th>4</th>\n",
       "      <td> 21.98</td>\n",
       "      <td> 665</td>\n",
       "      <td> 36</td>\n",
       "      <td>  6666.67</td>\n",
       "      <td> 22000</td>\n",
       "    </tr>\n",
       "  </tbody>\n",
       "</table>\n",
       "</div>"
      ],
      "text/plain": [
       "   Interest.Rate  FICO.Score  Loan.Length  Monthly.Income  Loan.Amount\n",
       "0          15.31         670           36         4891.67         6000\n",
       "1          19.72         670           36         3575.00         2000\n",
       "2          14.27         665           36         4250.00        10625\n",
       "3          21.67         670           60        14166.67        28000\n",
       "4          21.98         665           36         6666.67        22000"
      ]
     },
     "execution_count": 2,
     "metadata": {},
     "output_type": "execute_result"
    }
   ],
   "source": [
    "df = pd.read_csv('data/loan.csv')\n",
    "df = df.drop('Unnamed: 0', 1)\n",
    "df.head()"
   ]
  },
  {
   "cell_type": "code",
   "execution_count": 3,
   "metadata": {
    "collapsed": false
   },
   "outputs": [
    {
     "data": {
      "text/plain": [
       "Interest.Rate     0\n",
       "FICO.Score        0\n",
       "Loan.Length       0\n",
       "Monthly.Income    1\n",
       "Loan.Amount       0\n",
       "dtype: int64"
      ]
     },
     "execution_count": 3,
     "metadata": {},
     "output_type": "execute_result"
    }
   ],
   "source": [
    "np.sum(df.isnull())"
   ]
  },
  {
   "cell_type": "code",
   "execution_count": 4,
   "metadata": {
    "collapsed": false
   },
   "outputs": [],
   "source": [
    "df = df.dropna(axis=0)"
   ]
  },
  {
   "cell_type": "code",
   "execution_count": 5,
   "metadata": {
    "collapsed": false
   },
   "outputs": [
    {
     "data": {
      "text/plain": [
       "Interest.Rate     0\n",
       "FICO.Score        0\n",
       "Loan.Length       0\n",
       "Monthly.Income    0\n",
       "Loan.Amount       0\n",
       "dtype: int64"
      ]
     },
     "execution_count": 5,
     "metadata": {},
     "output_type": "execute_result"
    }
   ],
   "source": [
    "np.sum(df.isnull())"
   ]
  },
  {
   "cell_type": "markdown",
   "metadata": {},
   "source": [
    "#### Getting a feature matrix\n",
    "\n",
    "Remember from lecture that for any machine learning model we have **Features** (or a feature matrix) and a **Target** (or response/dependent variable from statistics parlance).  In the `sklearn` API we need to separate these from our initial data matrix.\n",
    "\n",
    "> NOTE: `sklearn` expects as input a `numpy` array/matrix. Often if you pass in a `DataFrame` Python can convert/coerce the DataFrame into a `numpy` array alright, but it is a best practice to do this conversion yourself"
   ]
  },
  {
   "cell_type": "code",
   "execution_count": 6,
   "metadata": {
    "collapsed": false
   },
   "outputs": [
    {
     "data": {
      "text/html": [
       "<div style=\"max-height:1000px;max-width:1500px;overflow:auto;\">\n",
       "<table border=\"1\" class=\"dataframe\">\n",
       "  <thead>\n",
       "    <tr style=\"text-align: right;\">\n",
       "      <th></th>\n",
       "      <th>FICO.Score</th>\n",
       "      <th>Loan.Length</th>\n",
       "      <th>Monthly.Income</th>\n",
       "      <th>Loan.Amount</th>\n",
       "    </tr>\n",
       "  </thead>\n",
       "  <tbody>\n",
       "    <tr>\n",
       "      <th>0</th>\n",
       "      <td> 670</td>\n",
       "      <td> 36</td>\n",
       "      <td>  4891.67</td>\n",
       "      <td>  6000</td>\n",
       "    </tr>\n",
       "    <tr>\n",
       "      <th>1</th>\n",
       "      <td> 670</td>\n",
       "      <td> 36</td>\n",
       "      <td>  3575.00</td>\n",
       "      <td>  2000</td>\n",
       "    </tr>\n",
       "    <tr>\n",
       "      <th>2</th>\n",
       "      <td> 665</td>\n",
       "      <td> 36</td>\n",
       "      <td>  4250.00</td>\n",
       "      <td> 10625</td>\n",
       "    </tr>\n",
       "    <tr>\n",
       "      <th>3</th>\n",
       "      <td> 670</td>\n",
       "      <td> 60</td>\n",
       "      <td> 14166.67</td>\n",
       "      <td> 28000</td>\n",
       "    </tr>\n",
       "    <tr>\n",
       "      <th>4</th>\n",
       "      <td> 665</td>\n",
       "      <td> 36</td>\n",
       "      <td>  6666.67</td>\n",
       "      <td> 22000</td>\n",
       "    </tr>\n",
       "  </tbody>\n",
       "</table>\n",
       "</div>"
      ],
      "text/plain": [
       "   FICO.Score  Loan.Length  Monthly.Income  Loan.Amount\n",
       "0         670           36         4891.67         6000\n",
       "1         670           36         3575.00         2000\n",
       "2         665           36         4250.00        10625\n",
       "3         670           60        14166.67        28000\n",
       "4         665           36         6666.67        22000"
      ]
     },
     "execution_count": 6,
     "metadata": {},
     "output_type": "execute_result"
    }
   ],
   "source": [
    "features = df.iloc[:, 1:]\n",
    "features.head()"
   ]
  },
  {
   "cell_type": "code",
   "execution_count": 7,
   "metadata": {
    "collapsed": false
   },
   "outputs": [
    {
     "data": {
      "text/plain": [
       "0    15.31\n",
       "1    19.72\n",
       "2    14.27\n",
       "3    21.67\n",
       "4    21.98\n",
       "Name: Interest.Rate, dtype: float64"
      ]
     },
     "execution_count": 7,
     "metadata": {},
     "output_type": "execute_result"
    }
   ],
   "source": [
    "labels = df.iloc[:, 0]\n",
    "labels.head()"
   ]
  },
  {
   "cell_type": "code",
   "execution_count": 8,
   "metadata": {
    "collapsed": false
   },
   "outputs": [],
   "source": [
    "X = features.as_matrix()\n",
    "y = labels.as_matrix()"
   ]
  },
  {
   "cell_type": "code",
   "execution_count": 9,
   "metadata": {
    "collapsed": false
   },
   "outputs": [
    {
     "name": "stdout",
     "output_type": "stream",
     "text": [
      "Features: \n",
      "[[   670.       36.     4891.67   6000.  ]\n",
      " [   670.       36.     3575.     2000.  ]\n",
      " [   665.       36.     4250.    10625.  ]\n",
      " ..., \n",
      " [   810.       36.     9250.    27000.  ]\n",
      " [   765.       36.     7083.33  25000.  ]\n",
      " [   740.       60.     8903.25  16000.  ]]\n",
      "\n",
      "\n",
      "Labels: \n",
      "[ 15.31  19.72  14.27 ...,   6.62  10.75  14.09]\n"
     ]
    }
   ],
   "source": [
    "print \"Features: \\n\", X\n",
    "print \"\\n\\nLabels: \\n\", y"
   ]
  },
  {
   "cell_type": "markdown",
   "metadata": {},
   "source": [
    "### The API\n",
    "\n",
    "`sklearn` has a **very** Object Oriented interface and it is import to be aware of this when building models.  It is important to note that (almost) every model/transform/object in `sklearn` is an `Estimator` object.  What is an `Estimator`?"
   ]
  },
  {
   "cell_type": "code",
   "execution_count": 10,
   "metadata": {
    "collapsed": true
   },
   "outputs": [],
   "source": [
    "class Estimator(object):\n",
    "  \n",
    "    def fit(self, X, y=None):\n",
    "        \"\"\"Fit model to data X (and y)\"\"\"\n",
    "        self.some_attribute = self.some_fitting_method(X, y)\n",
    "        return self\n",
    "            \n",
    "    def predict(self, X_test):\n",
    "        \"\"\"Make prediction based on passed features\"\"\"\n",
    "        pred = self.make_prediction(X_test)\n",
    "        return pred\n",
    "    \n",
    "model = Estimator()"
   ]
  },
  {
   "cell_type": "markdown",
   "metadata": {},
   "source": [
    "The `Estimator` class defines a `fit()` method as well as a `predict()` method.  For an instance of an `Estimator` stored in a variable `model`:\n",
    "\n",
    "* `model.fit`: fits the model with the passed in training data.  For supervised models, it also accepts a second argument `y` that corresponds to the labels (`model.fit(X, y)`.  For unsupervised models, there are no labels so you only need to pass in the feature matrix (`model.fit(X)`)\n",
    "    > Since the interface is very OO, the instance itself stores the results of the `fit` internally.  And as such you must always `fit()` before you `predict()` on the same object.\n",
    "* `model.predict`: predicts new labels for any new datapoints passed in (`model.predict(X_test)`) and returns an array equal in length to the number of rows of what is passed in containing the predicted labels.\n",
    "\n",
    "There are 3(ish) types of subclass of estimator:\n",
    "\n",
    "* Supervised\n",
    "* Unsupervised\n",
    "* Feature Processing\n",
    "\n",
    "#### Supervised\n",
    "\n",
    "Supervised estimators in addition to the above methods typically also have:\n",
    "\n",
    "* `model.predict_proba: For classifiers that have a notion of probability (or some measure of confidence in a prediction) this method returns those \"probabilities\".  The label with the highest probability is what is returned by the `model.predict()` mehod from above.\n",
    "* `model.score`: For both classification and regression models, this method returns some measure of validation of the model (which is configurable).  For example, in regression the default is typically R^2 and classification it is accuracy.\n",
    "\n",
    "#### Unsupervised\n",
    "\n",
    "Some estimators in the library implement what is referred to as the **transformer** interface.  Unsupervised in this case refers to any method that does not need labels, including (but not limited to) unsupervised classifiers, preprocessing (like tf-idf), dimensionality reduction, etc.\n",
    "\n",
    "The **transformer** interface defines (usually) two additional methods:\n",
    "\n",
    "* `model.transform`: Given an unsupervised model, transform the input into a new basis (or feature space). This accepts on argument (usually a feature matrix) and returns a matrix of the input transformed. Note: You need to `fit()` the model before you transform it.\n",
    "* `model.fit_transform`: For some models you may not need to `fit()` and `transform()` separately.  In these cases it is more convenient to do both at the same time.  And that is precisely what `fit_transform()` does!"
   ]
  },
  {
   "cell_type": "markdown",
   "metadata": {},
   "source": [
    "### Let's see this in action!\n",
    "\n",
    "We will be trying to predict the loan **interest rate** based on the FICO score, loan length, monthly income, and loan amount:\n",
    "\n",
    "$$Interest.Rate = \\beta_0 + \\beta_1 \\cdot FICO.Score + \\beta_2 \\cdot Loan.Length + \\beta_3 \\cdot Monthly.Income + \\beta_4 \\cdot Loan.Amount$$"
   ]
  },
  {
   "cell_type": "code",
   "execution_count": 11,
   "metadata": {
    "collapsed": true
   },
   "outputs": [],
   "source": [
    "from sklearn.linear_model import LinearRegression\n",
    "from sklearn.cross_validation import train_test_split"
   ]
  },
  {
   "cell_type": "code",
   "execution_count": 12,
   "metadata": {
    "collapsed": true
   },
   "outputs": [],
   "source": [
    "X_train, X_test, y_train, y_test = train_test_split(X, y)"
   ]
  },
  {
   "cell_type": "code",
   "execution_count": 13,
   "metadata": {
    "collapsed": false
   },
   "outputs": [
    {
     "name": "stdout",
     "output_type": "stream",
     "text": [
      "The training split: \n",
      "\n",
      "1874 1874\n",
      "\n",
      "\n",
      "The testing split: \n",
      "\n",
      "625 625\n"
     ]
    }
   ],
   "source": [
    "print \"The training split: \\n\"\n",
    "print len(X_train), len(y_train)\n",
    "print \"\\n\\nThe testing split: \\n\"\n",
    "print len(X_test), len(y_test)"
   ]
  },
  {
   "cell_type": "code",
   "execution_count": 14,
   "metadata": {
    "collapsed": false
   },
   "outputs": [
    {
     "data": {
      "text/plain": [
       "LinearRegression(copy_X=True, fit_intercept=True, normalize=False)"
      ]
     },
     "execution_count": 14,
     "metadata": {},
     "output_type": "execute_result"
    }
   ],
   "source": [
    "# create an instance of an estimator\n",
    "clf = LinearRegression()\n",
    "\n",
    "# fit the estimator (notice I do not save any return value in a variable)\n",
    "clf.fit(X_train, y_train)"
   ]
  },
  {
   "cell_type": "code",
   "execution_count": 15,
   "metadata": {
    "collapsed": false
   },
   "outputs": [
    {
     "name": "stdout",
     "output_type": "stream",
     "text": [
      "625\n"
     ]
    }
   ],
   "source": [
    "# predict (but only after we have trained!)\n",
    "predictions = clf.predict(X_test)\n",
    "print len(predictions)"
   ]
  },
  {
   "cell_type": "code",
   "execution_count": 16,
   "metadata": {
    "collapsed": false
   },
   "outputs": [
    {
     "name": "stdout",
     "output_type": "stream",
     "text": [
      "Coefficients: \n",
      "[ -8.71053805e-02   1.36510057e-01  -2.23245668e-05   1.38663606e-04]\n",
      "\n",
      "\n",
      "Residual sum of squares: 4.33\n",
      "\n",
      "\n",
      "Variance score: 0.75\n"
     ]
    }
   ],
   "source": [
    "# The coefficients\n",
    "print 'Coefficients: \\n', clf.coef_\n",
    "# The mean square error\n",
    "print(\"\\n\\nResidual sum of squares: %.2f\"\n",
    "      % np.mean((predictions - y_test) ** 2))\n",
    "\n",
    "# Explained variance score: 1 is perfect prediction\n",
    "print('\\n\\nVariance score: %.2f' % clf.score(X_test, y_test))"
   ]
  }
 ],
 "metadata": {
  "kernelspec": {
   "display_name": "Python 2",
   "language": "python",
   "name": "python2"
  },
  "language_info": {
   "codemirror_mode": {
    "name": "ipython",
    "version": 2
   },
   "file_extension": ".py",
   "mimetype": "text/x-python",
   "name": "python",
   "nbconvert_exporter": "python",
   "pygments_lexer": "ipython2",
   "version": "2.7.9"
  }
 },
 "nbformat": 4,
 "nbformat_minor": 0
}
