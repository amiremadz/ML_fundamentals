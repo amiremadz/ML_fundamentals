{
 "cells": [
  {
   "cell_type": "markdown",
   "metadata": {},
   "source": [
    "# DSCI6003 Practicum II: Random Forests - Applications\n",
    "\n",
    "In this section of the practicum, we will be continuing with the work from the previous section, but focusing on applying and comparing the classifiers and tools we have learnt so far. \n",
    "\n",
    "1. First fill out the unit test stub, test_decision_tree.py\n",
    "2. Fill out each section of the run_test.py test harness stub. Use your own code for Random Forests as a classifier. You will need to use your notes on pandas and good use of the [pandas documentation](http://pandas.pydata.org/pandas-docs/stable/) to finish. \n",
    "3. Now you will implement pruning on your trees in order to improve robustness. Use the annotated code stub ImprovedDecisionTree.py to construct the pruning optimized tree.\n",
    "4. Make a new PrunedRandomForest classifier as a subclass of RandomForest. Override its construction to produce a random forest of ImprovedDecisionTrees.\n",
    "5. Add new code to the test harness you already built to compare the pruned forest tree to the unpruned forest. Can you find indications of overfitting in the performance of the unpruned forest?\n",
    "\n",
    "### Extra Credit:\n",
    "\n",
    "4. Implement the RegressionTree.py stub and make a test harness to compare to a linear regression."
   ]
  },
  {
   "cell_type": "code",
   "execution_count": null,
   "metadata": {
    "collapsed": true
   },
   "outputs": [],
   "source": []
  }
 ],
 "metadata": {
  "kernelspec": {
   "display_name": "Python 2",
   "language": "python",
   "name": "python2"
  },
  "language_info": {
   "codemirror_mode": {
    "name": "ipython",
    "version": 2
   },
   "file_extension": ".py",
   "mimetype": "text/x-python",
   "name": "python",
   "nbconvert_exporter": "python",
   "pygments_lexer": "ipython2",
   "version": "2.7.9"
  }
 },
 "nbformat": 4,
 "nbformat_minor": 0
}
