{
 "cells": [
  {
   "cell_type": "raw",
   "metadata": {},
   "source": [
    "RAT 4.4 What is bootstrap sampling? If you can't use the Central Limit Theorem to estimate a population parameter, how would you use bootstrap sampling to? How is it used to construct a bagged forest model? How does it change the bias-variance tradeoff as compared to single decision trees?"
   ]
  },
  {
   "cell_type": "code",
   "execution_count": null,
   "metadata": {
    "collapsed": true
   },
   "outputs": [],
   "source": [
    "Bootstrap Sampling is random sampling with replacement.\n",
    "The basic idea of bootstrapping is that inference about a population from sample data \n",
    "(sample → population) can be modeled by resampling the sample data and performing inference \n",
    "on (resample → sample).\n",
    "\n",
    "If we cant use Central Limit Theorem we would be taking different \n",
    "samples and based on that we will estimate the population parameter.\n",
    "\n",
    "Bagged forest can be build based on different bootstrap sample.\n",
    "\n",
    "It can be used to overcome poorly sample data. It changes the bias variance tradeoff be reducing the noise .\n",
    "And multiple sampling helps in building a better model by reducing overfitting and reducing bias"
   ]
  }
 ],
 "metadata": {
  "kernelspec": {
   "display_name": "Python 2",
   "language": "python",
   "name": "python2"
  },
  "language_info": {
   "codemirror_mode": {
    "name": "ipython",
    "version": 2
   },
   "file_extension": ".py",
   "mimetype": "text/x-python",
   "name": "python",
   "nbconvert_exporter": "python",
   "pygments_lexer": "ipython2",
   "version": "2.7.10"
  }
 },
 "nbformat": 4,
 "nbformat_minor": 0
}
