{
 "cells": [
  {
   "cell_type": "markdown",
   "metadata": {},
   "source": [
    "# DSCI 6003 4.4 Lecture\n"
   ]
  },
  {
   "cell_type": "markdown",
   "metadata": {},
   "source": [
    "\n",
    "I will be using Moss to check for plagiarism.\n"
   ]
  },
  {
   "cell_type": "markdown",
   "metadata": {},
   "source": [
    "Most of the test will be short form coding type problems. Expect to have the following topics covered:\n",
    "1. Object oriented programming\n",
    "2. Inheritance\n",
    "3. Recursion\n",
    "4. Tree structures (nodes and leaves, etc.)\n",
    "\n",
    "A. Build a new class that inherits from X and override function X\n",
    "B. Here is a cost function - modify it\n",
    "C. The Hypothesis - Cost - Optimization paradigm\n",
    "D. SVMs (linear models Ax = b)\n",
    "    a. Construction of the principal equation: $y(\\beta_0+\\beta^{T}x) \\geq 1$\n",
    "    \n",
    "    b. principal eqn -> primal ($J(\\theta))$\n",
    "    \n",
    "    c. primal -> $\\nabla J(\\theta)$ (Lagrange multipliers)\n",
    "    \n",
    "    d. SVMs we use regularization -> Cost function\n",
    "    \n",
    "    e. Special picture of lagrange multipliers, budget and SV\n",
    "    \n",
    "    f. Kernel trick. What does it do? How does it work (to the best of your ability). \n",
    "        In general d<N. We bypass this by expanding the dimensions of the problem. f(x,y) -> f(x,y, xy, x^2, y^2)\n",
    "        \n",
    "    g. One-of-Many and One-of-All multiclass SVMs\n",
    "    \n",
    "    \n",
    "E. Trees and Forests (nonparametric models (kNN))\n",
    "    a. Hypothesis-Cost-Optimization\n",
    "       Hypothesis: The data is organizable into partitions - decisions can classify the data\n",
    "       Cost: Sum of gini and entropy down branches\n",
    "       Optimization: Maximize information by minimizing entropy\n",
    "    b. Construction of nodes\n",
    "    c. Study and use and play with the tests\n",
    "    d. print out the tree\n",
    "    e. Partitions - expect a question\n",
    "    f. details surrounding trees, regression trees, pruning\n",
    "    \n"
   ]
  },
  {
   "cell_type": "code",
   "execution_count": null,
   "metadata": {
    "collapsed": true
   },
   "outputs": [],
   "source": []
  }
 ],
 "metadata": {
  "kernelspec": {
   "display_name": "Python 2",
   "language": "python",
   "name": "python2"
  },
  "language_info": {
   "codemirror_mode": {
    "name": "ipython",
    "version": 2
   },
   "file_extension": ".py",
   "mimetype": "text/x-python",
   "name": "python",
   "nbconvert_exporter": "python",
   "pygments_lexer": "ipython2",
   "version": "2.7.10"
  }
 },
 "nbformat": 4,
 "nbformat_minor": 0
}
