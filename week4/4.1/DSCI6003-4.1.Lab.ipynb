{
 "cells": [
  {
   "cell_type": "markdown",
   "metadata": {},
   "source": [
    "# DSCI6003 4.1 Lab\n",
    "\n",
    "We're going to practice with some problems. Write the functions in `recursion_practice.py`.\n",
    "\n",
    "We'll be using this implementation of a `TreeNode` (in `node.py`) for all the questions concerning trees (2-4):\n",
    "\n",
    "```python\n",
    "class TreeNode(object):\n",
    "    def __init__(self, value, left=None, right=None):\n",
    "        self.value = value\n",
    "        self.left = left\n",
    "        self.right = right\n",
    "```\n",
    "\n",
    "1. Write a recursive function which takes an integer and computes and sum of the digits:\n",
    "\n",
    "    ```python\n",
    "    sum_digits(4502)    # returns 11\n",
    "    ```\n",
    "\n",
    "    Here's how to think about it recursively:\n",
    "    ```\n",
    "    4502 % 10 gives you 2\n",
    "    4502 / 10 gives you 450\n",
    "    So sum_digits(4502) = 4502 % 10 + sum_digits(4502 / 10)\n",
    "    ```\n",
    "\n",
    "2. Write a function `sum_tree` which sums all the values in a binary tree. Here's how to think about it recursively:\n",
    "\n",
    "    ```\n",
    "    sum_tree(root) = sum_tree(root.left) + sum_tree(root.right) + root.value\n",
    "    ```\n",
    "\n",
    "3. Write a function `print_all` which prints all the values in a binary tree. In your recursive call you'll need to print `root.left`, `root.right` and `root.value`. You can do these three things in any order and it will affect the order of the outcome.\n",
    "\n",
    "    As a sidenote these are called *traversals* and each possible order has a name. **Preorder** is `value, left, right`. **Postorder** is `left, right, value`. **Inorder** is `left, value, right`.\n",
    "\n",
    "4. Write a function `build_coinflip_tree` which takes an integer *k* and builds the tree containing all the possible results of flipping a coin *k* times. The value at each node should be a string of the flips to get there. For example, if *k* is 3, your tree should look like something similar to this:\n",
    "\n",
    "    ```\n",
    "                       ''\n",
    "                     /    \\\n",
    "                   /        \\\n",
    "                 /            \\\n",
    "               /                \\\n",
    "             H                    T\n",
    "           /   \\                /   \\\n",
    "         /       \\            /       \\\n",
    "       HH         HT        TH         TT\n",
    "      /  \\       /  \\      /  \\       /  \\\n",
    "    HHH  HHT   HTH  HTT  THH  THT   TTH  TTT\n",
    "    ```\n",
    "\n",
    "    To verify your result, you'll have to just do things like:\n",
    "    ```python\n",
    "    root = build_coinflip_tree(3)\n",
    "    assert root.value == \"\"\n",
    "    assert root.left.value == \"H\"\n",
    "    assert root.left.left.value == \"HH\"\n",
    "    ```\n",
    "    or build the tree manually and use the `equals` function written in `recusion_examples.py`.\n",
    "    \n",
    "    **Hint:** The `value` parameter you'll see in the docstring is so that you can pass to the tree what path you took to get there. It might make the problem a little easier to build a tree like this instead:\n",
    "    \n",
    "    ```\n",
    "         ''\n",
    "        /  \\\n",
    "       /    \\\n",
    "      H      T\n",
    "     / \\    / \\\n",
    "    H   T  H   T\n",
    "    ```\n",
    "\n",
    "\n",
    "## Extra Credit\n",
    "1. Go back to the traversal problem from above. If you are given the *output* of that function, can you rebuild the tree? Let's say you have the preorder and inorder. Write a function which builds the tree. You can assume values are unique.\n",
    "\n",
    "    **Hint:** The first item in the preorder traversal is the root. In the inorder traversal, everything to the left of the root is in the left subtree and everything to the right is in the right subtree.\n",
    "\n",
    "2. Write a function `print_tree` which takes a tree and prints the output in a human readable format.\n",
    "\n",
    "3. Write a function `make_word_breaks` which takes a string `phrase` and a set `word_list`. The idea is to determine if you can make word breaks in the string. For example: `\"thedogruns\"` would become `\"the dog runs\"`. Of course for many strings of letters, this is not possible. Don't worry about being efficient, just try every possibility.\n"
   ]
  },
  {
   "cell_type": "code",
   "execution_count": 73,
   "metadata": {
    "collapsed": false
   },
   "outputs": [],
   "source": [
    "def sum_digits(num):\n",
    "    sum=0\n",
    "    \n",
    "    if num==0:\n",
    "        return 0\n",
    "    \n",
    "    if num !=0:\n",
    "        return (num%10)+sum_digits(num/10)\n",
    "    \n",
    "    "
   ]
  },
  {
   "cell_type": "code",
   "execution_count": 75,
   "metadata": {
    "collapsed": false
   },
   "outputs": [
    {
     "data": {
      "text/plain": [
       "11"
      ]
     },
     "execution_count": 75,
     "metadata": {},
     "output_type": "execute_result"
    }
   ],
   "source": [
    "sum_digits(4502)"
   ]
  },
  {
   "cell_type": "code",
   "execution_count": null,
   "metadata": {
    "collapsed": false
   },
   "outputs": [],
   "source": []
  },
  {
   "cell_type": "code",
   "execution_count": null,
   "metadata": {
    "collapsed": false
   },
   "outputs": [],
   "source": []
  },
  {
   "cell_type": "code",
   "execution_count": null,
   "metadata": {
    "collapsed": true
   },
   "outputs": [],
   "source": [
    "class TreeNode(object):\n",
    "    def __init__(self, value, left=None, right=None):\n",
    "        self.value = value\n",
    "        self.left = left\n",
    "        self.right = right"
   ]
  },
  {
   "cell_type": "code",
   "execution_count": null,
   "metadata": {
    "collapsed": true
   },
   "outputs": [],
   "source": [
    "class JNode(object):\n",
    "    def __init__(self, value, left=None, right=None, parent=None):\n",
    "        self.parent = parent\n",
    "        self.value = value\n",
    "        self.left = left\n",
    "        self.right = right"
   ]
  },
  {
   "cell_type": "code",
   "execution_count": null,
   "metadata": {
    "collapsed": true
   },
   "outputs": [],
   "source": []
  },
  {
   "cell_type": "code",
   "execution_count": 2,
   "metadata": {
    "collapsed": true
   },
   "outputs": [],
   "source": [
    "# building our Tree\n",
    "root = TreeNode(1)\n",
    "\n",
    "root.left = TreeNode(2)\n",
    "root.right = TreeNode(2)\n",
    "\n",
    "root.left.left = TreeNode(3)\n",
    "root.left.right = TreeNode(3)\n",
    "root.right.left = TreeNode(3)\n",
    "root.right.right = TreeNode(3)"
   ]
  },
  {
   "cell_type": "code",
   "execution_count": 12,
   "metadata": {
    "collapsed": false
   },
   "outputs": [],
   "source": [
    "# Fixed sum_tree function\n",
    "def sum_tree(root):\n",
    "    if (root == None):\n",
    "        return 0\n",
    "    elif (root.right == None) & (root.left == None):\n",
    "        return root.value\n",
    "    else:\n",
    "        return root.value + sum_tree(root.right) + sum_tree(root.left)"
   ]
  },
  {
   "cell_type": "code",
   "execution_count": 13,
   "metadata": {
    "collapsed": false,
    "scrolled": true
   },
   "outputs": [
    {
     "name": "stdout",
     "output_type": "stream",
     "text": [
      "17\n"
     ]
    }
   ],
   "source": [
    "print sum_tree(root)"
   ]
  },
  {
   "cell_type": "code",
   "execution_count": 10,
   "metadata": {
    "collapsed": false
   },
   "outputs": [
    {
     "ename": "TypeError",
     "evalue": "unsupported operand type(s) for +: 'NoneType' and 'int'",
     "output_type": "error",
     "traceback": [
      "\u001b[0;31m---------------------------------------------------------------------------\u001b[0m",
      "\u001b[0;31mTypeError\u001b[0m                                 Traceback (most recent call last)",
      "\u001b[0;32m<ipython-input-10-0d968c5954b0>\u001b[0m in \u001b[0;36m<module>\u001b[0;34m()\u001b[0m\n\u001b[0;32m----> 1\u001b[0;31m \u001b[0mNone\u001b[0m\u001b[0;34m+\u001b[0m\u001b[0;36m17\u001b[0m\u001b[0;34m\u001b[0m\u001b[0m\n\u001b[0m",
      "\u001b[0;31mTypeError\u001b[0m: unsupported operand type(s) for +: 'NoneType' and 'int'"
     ]
    }
   ],
   "source": [
    "None+17"
   ]
  },
  {
   "cell_type": "code",
   "execution_count": 8,
   "metadata": {
    "collapsed": true
   },
   "outputs": [],
   "source": [
    "TN2 = TreeNode(5, left=TreeNode(3, left=TreeNode(8), right=TreeNode(4)), right=TreeNode(7, left=TreeNode(2), right=TreeNode(9)))"
   ]
  },
  {
   "cell_type": "code",
   "execution_count": 9,
   "metadata": {
    "collapsed": false
   },
   "outputs": [
    {
     "data": {
      "text/plain": [
       "38"
      ]
     },
     "execution_count": 9,
     "metadata": {},
     "output_type": "execute_result"
    }
   ],
   "source": [
    "sum_tree(TN2)"
   ]
  },
  {
   "cell_type": "code",
   "execution_count": 14,
   "metadata": {
    "collapsed": true
   },
   "outputs": [],
   "source": [
    "def build_coinflip_tree(k, value=''):\n",
    "    if value == '':\n",
    "        right = 'H'\n",
    "        left = 'T'\n",
    "    else:\n",
    "        right = value+'H'\n",
    "        left = value+'T'\n",
    "        \n",
    "    tree = TreeNode(value, right=right, left=left)\n",
    "    if k==1:\n",
    "        return tree\n",
    "    \n",
    "    tree.right = build_coinflip_tree(k-1, value=right)\n",
    "    tree.left = build_coinflip_tree(k-1, value=left)\n",
    "    return tree\n"
   ]
  },
  {
   "cell_type": "code",
   "execution_count": 20,
   "metadata": {
    "collapsed": false
   },
   "outputs": [
    {
     "name": "stdout",
     "output_type": "stream",
     "text": [
      "HTT\n"
     ]
    }
   ],
   "source": [
    "print build_coinflip_tree(3, 'H').left.left.value"
   ]
  },
  {
   "cell_type": "code",
   "execution_count": null,
   "metadata": {
    "collapsed": true
   },
   "outputs": [],
   "source": []
  }
 ],
 "metadata": {
  "kernelspec": {
   "display_name": "Python 2",
   "language": "python",
   "name": "python2"
  },
  "language_info": {
   "codemirror_mode": {
    "name": "ipython",
    "version": 2
   },
   "file_extension": ".py",
   "mimetype": "text/x-python",
   "name": "python",
   "nbconvert_exporter": "python",
   "pygments_lexer": "ipython2",
   "version": "2.7.10"
  }
 },
 "nbformat": 4,
 "nbformat_minor": 0
}
