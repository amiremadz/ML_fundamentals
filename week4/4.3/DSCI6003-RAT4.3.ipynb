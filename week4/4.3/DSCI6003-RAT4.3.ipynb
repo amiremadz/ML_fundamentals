{
 "cells": [
  {
   "cell_type": "raw",
   "metadata": {},
   "source": [
    "RAT 4.3 A Decision Tree wants to determine a split in the feature space based on training data. In a classification problem, how does it do that? Roughly speaking, what is the split trying to achieve in terms of class balance in the disjoint pieces before and after the split? Why do you prune a tree?"
   ]
  },
  {
   "cell_type": "code",
   "execution_count": null,
   "metadata": {
    "collapsed": true
   },
   "outputs": [],
   "source": [
    "To pick which feature to split on, we need a way of measuring how good the split is.\n",
    "We can use  information gain for this purpose. \n",
    "Gini impurity and entropy is also used to determine the split.\n",
    "We create the splits which minimise the entropy. If a set has same labels then it will have low entropy.\n",
    "If set has mix labels then it will have high entropy.\n"
   ]
  },
  {
   "cell_type": "code",
   "execution_count": null,
   "metadata": {
    "collapsed": true
   },
   "outputs": [],
   "source": [
    "We prune a tree because they are prone to overfitting. "
   ]
  }
 ],
 "metadata": {
  "kernelspec": {
   "display_name": "Python 2",
   "language": "python",
   "name": "python2"
  },
  "language_info": {
   "codemirror_mode": {
    "name": "ipython",
    "version": 2
   },
   "file_extension": ".py",
   "mimetype": "text/x-python",
   "name": "python",
   "nbconvert_exporter": "python",
   "pygments_lexer": "ipython2",
   "version": "2.7.10"
  }
 },
 "nbformat": 4,
 "nbformat_minor": 0
}
