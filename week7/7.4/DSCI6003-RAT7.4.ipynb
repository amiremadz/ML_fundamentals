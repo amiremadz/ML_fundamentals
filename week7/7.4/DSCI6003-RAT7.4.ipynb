{
 "cells": [
  {
   "cell_type": "markdown",
   "metadata": {},
   "source": [
    "### RAT 7.4\n",
    "What is a sampling distribution?\n",
    "What does the Central Limit theorem say about a sampling distribution of means? of proportions? of differences?\n",
    "\n",
    "In practice, what are the assumptions on the use of the Z-test in a hypothesis test?\n",
    "\n",
    "In the absense of the Central Limit Theorem, what can you do to computationally do a hypothesis test?\n",
    "\n",
    "What are Type I and Type II errors?\n",
    "\n",
    "Programming:\n",
    "What is a regular expression?\n",
    "\n",
    "How is, roughly speaking, Python's dictionary implemented? What are the performance guarantees on its operations?\n",
    "\n",
    "Recursively sort a list in quadratic time."
   ]
  },
  {
   "cell_type": "code",
   "execution_count": null,
   "metadata": {
    "collapsed": true
   },
   "outputs": [],
   "source": [
    "#Answer1)\n",
    "If we draw all possible samples of size n from a given population. \n",
    "then we compute a statistic (e.g.,  mean, standard deviation)\n",
    "for each sample. The probability distribution of this statistic is called a sampling distribution. \n",
    "\n",
    "CLT of means: it says sample mean is an estimate of the population.\n",
    "CLT of proportions: SD is approximately normal with mean.\n",
    "CLT of differences:\n",
    "\n"
   ]
  },
  {
   "cell_type": "code",
   "execution_count": null,
   "metadata": {
    "collapsed": true
   },
   "outputs": [],
   "source": [
    "#Answer2) Assumption of z-test in hypothesis test\n",
    "\n",
    "Data is independently sampled from a normal distribution.\n",
    "Standard Deviation is to be known."
   ]
  },
  {
   "cell_type": "code",
   "execution_count": null,
   "metadata": {
    "collapsed": true
   },
   "outputs": [],
   "source": [
    "#Answer3)\n",
    "\n",
    "We use t-statistic."
   ]
  },
  {
   "cell_type": "code",
   "execution_count": null,
   "metadata": {
    "collapsed": true
   },
   "outputs": [],
   "source": [
    "#Answer4)\n",
    "type I error is the incorrect rejection of a true null hypothesis false positive.\n",
    "while a type II error is the failure to reject a false null hypothesis a false negative."
   ]
  },
  {
   "cell_type": "code",
   "execution_count": null,
   "metadata": {
    "collapsed": true
   },
   "outputs": [],
   "source": [
    "#Answer5)\n",
    "\n",
    "Regular Expression :  It is a sequence of characters that define a search pattern, \n",
    "    mainly for use in pattern matching with strings, or string matching.\n",
    "    \n",
    "Python dictionary : It is based on hashing mechanism.We ensure that the key is unique.\n",
    "    A hash function is used which gives a unique integer and the objects are stored in \n",
    "    the buckets inside memory based on the unique integer returned from hash function.\n",
    "    \n",
    "    Remove:O(1)\n",
    "    ContainsValue:0(n)\n",
    "    "
   ]
  },
  {
   "cell_type": "code",
   "execution_count": 1,
   "metadata": {
    "collapsed": false
   },
   "outputs": [
    {
     "name": "stdout",
     "output_type": "stream",
     "text": [
      "[-23, -6, -5, 5, 23, 67]\n"
     ]
    }
   ],
   "source": [
    "data_list = [-5, -23, 5, -6, 23, 67]\n",
    "new_list = []\n",
    "\n",
    "while data_list:\n",
    "    minimum = data_list[0]  \n",
    "    for x in data_list: \n",
    "        if x < minimum:\n",
    "            minimum = x\n",
    "    new_list.append(minimum)\n",
    "    data_list.remove(minimum)    \n",
    "\n",
    "print new_list"
   ]
  },
  {
   "cell_type": "code",
   "execution_count": null,
   "metadata": {
    "collapsed": true
   },
   "outputs": [],
   "source": []
  }
 ],
 "metadata": {
  "kernelspec": {
   "display_name": "Python 2",
   "language": "python",
   "name": "python2"
  },
  "language_info": {
   "codemirror_mode": {
    "name": "ipython",
    "version": 2
   },
   "file_extension": ".py",
   "mimetype": "text/x-python",
   "name": "python",
   "nbconvert_exporter": "python",
   "pygments_lexer": "ipython2",
   "version": "2.7.10"
  }
 },
 "nbformat": 4,
 "nbformat_minor": 0
}
