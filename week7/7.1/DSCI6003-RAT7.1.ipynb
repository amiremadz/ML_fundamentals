{
 "cells": [
  {
   "cell_type": "markdown",
   "metadata": {},
   "source": [
    "RAT 7.1\n",
    "\n",
    "What is DBSCAN?\n",
    "\n",
    "When would you use it over k-means? over Expectation Maximization on Gaussian mixtures? When would those two be better than DBSCAN?\n",
    "\n",
    "(Seriously. I don't know the answer.)\n",
    "\n",
    "---\n",
    "\n",
    "Python Programming:\n",
    "What is the difference between a list and a generator?\n",
    "What is the difference between a Python list and a Python dictionary? What are the performance guarantees on their operations?\n",
    "\n",
    "Write a one-line definition of a function filter_in(nums, permitted) that takes a list of numbers nums and a set of permitted numbers and lazily returns all numbers in nums that are also in permitted.\n",
    "\n",
    "What is a disadvantage of a class having a subclass having a subclass having a subclass?"
   ]
  },
  {
   "cell_type": "code",
   "execution_count": null,
   "metadata": {
    "collapsed": true
   },
   "outputs": [],
   "source": [
    "#Answer1)\n",
    "\n",
    "DBSCAN is data clustering algorithm based on density based approach.\n",
    "Density-based spatial clustering of applications with noise .\n",
    "Density-based approaches like DBSCAN model clusters as high-density clumps of points. "
   ]
  },
  {
   "cell_type": "code",
   "execution_count": null,
   "metadata": {
    "collapsed": true
   },
   "outputs": [],
   "source": [
    "#Answer2\n",
    "\n",
    "In DBSCAN we do not require  to select the number of clusters in the data before, while we have to do in  k-means.\n",
    "DBSCAN is resistant to noise, and is robust to outliers.\n",
    "DBSCAN can find non-linearly separable clusters which k-means or Gaussian Mixture EM clustering cannot find."
   ]
  },
  {
   "cell_type": "code",
   "execution_count": null,
   "metadata": {
    "collapsed": true
   },
   "outputs": [],
   "source": [
    "#Answer3)\n",
    "\n",
    "A list can store a sequence of objects in a certain order such we can iterate over the list\n",
    "to retrieve the objects.\n",
    "\n",
    "A generator expression is used if we have to iterate once.\n",
    "If we have to store and use the generated results, then list comprehension should be used.\n",
    "\n",
    "\n",
    "A list can store a sequence of objects in a certain order we can iterate over the list to\n",
    "retrieve objects.List is mutable.\n",
    "\n",
    "A dictionary is a key-value pair.\n",
    "Key is unique in dictionary.\n",
    "It is not ordered and it is based on hashing algorithm.\n",
    "Look up for objects canbe done based on key.\n"
   ]
  },
  {
   "cell_type": "code",
   "execution_count": 9,
   "metadata": {
    "collapsed": true
   },
   "outputs": [],
   "source": [
    "#Answer4)\n",
    "def filter_in (nums, permitted):\n",
    "    return list(set(nums).intersection(set(permitted)))\n"
   ]
  },
  {
   "cell_type": "code",
   "execution_count": 10,
   "metadata": {
    "collapsed": false
   },
   "outputs": [
    {
     "data": {
      "text/plain": [
       "[8, 5, 6]"
      ]
     },
     "execution_count": 10,
     "metadata": {},
     "output_type": "execute_result"
    }
   ],
   "source": [
    "filter_in([4, 8, 2, 6, 5],[9, 8, 7, 6, 5])"
   ]
  },
  {
   "cell_type": "code",
   "execution_count": null,
   "metadata": {
    "collapsed": true
   },
   "outputs": [],
   "source": []
  },
  {
   "cell_type": "code",
   "execution_count": null,
   "metadata": {
    "collapsed": true
   },
   "outputs": [],
   "source": [
    "#Answer5\n",
    "\n",
    "There can be problem while function overriding because of multiple references."
   ]
  }
 ],
 "metadata": {
  "kernelspec": {
   "display_name": "Python 2",
   "language": "python",
   "name": "python2"
  },
  "language_info": {
   "codemirror_mode": {
    "name": "ipython",
    "version": 2
   },
   "file_extension": ".py",
   "mimetype": "text/x-python",
   "name": "python",
   "nbconvert_exporter": "python",
   "pygments_lexer": "ipython2",
   "version": "2.7.10"
  }
 },
 "nbformat": 4,
 "nbformat_minor": 0
}
