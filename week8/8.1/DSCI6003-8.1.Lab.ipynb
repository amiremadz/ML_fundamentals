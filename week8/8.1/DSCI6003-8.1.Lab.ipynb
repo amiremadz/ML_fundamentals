{
 "cells": [
  {
   "cell_type": "markdown",
   "metadata": {},
   "source": [
    "# DSCI 6003 8.1 Lab\n",
    "\n",
    "\n",
    "\n",
    "## Building an Item-Based collaborative filtering engine\n",
    "\n",
    "You have received a small prototype for an item-item based recommender, and your job is to turn it into a python class that can be used as the basis for a recommendation engine on a small website.\n",
    "\n",
    "You will be using the [MovieLens](http://grouplens.org/datasets/movielens/) dataset for this sprint. This data contains movie ratings on a scale from 1-5 in the u.data file.  There are other files we won't be using at this time, and they are described in the readme.\n",
    "\n",
    "You can also use this small toy dataset for verifying that your code is running properly.\n",
    "\n",
    "```python\n",
    "ratings_mat = sparse.lil_matrix(np.array([[4, 0, 0, 5, 1, 0, 0],\n",
    "                                          [5, 5, 4, 0, 0, 0, 0],\n",
    "                                          [0, 0, 0, 2, 4, 5, 0],\n",
    "                                          [0, 3, 0, 0, 0, 0, 3]]))\n",
    "```\n",
    "\n",
    "1.  Review `item_item_prototype.py` and then run it. There are a few serious problems with the ratings shown.  \n",
    "\n",
    "\tCome up with a hypothesis for why we are getting `nan`'s in our predictions. Write your explanation for why we are getting `nan`'s in a file called `explanations.txt`.\n",
    "\n",
    "2.  Move all of our functionality from the prototype to a class called `ItemItemRecommender`. `code/ItemItemRecommender.py` has a basic skeleton for a class.  The skeleton follows the convention of sklearn, where the `__init__` function describes the parameters of the model (in this case, it takes the neighborhood size as an argument and sets `self.neighborhood_size`).  Then a `fit` method of the class takes the data (in this case `ratings_mat`) and sets everything else in the `make_cos_sim_and_neighborhoods` function.\n",
    "\n",
    "\tDo not call the `fit` method from the constructor.  To match the common convention, let the user of the class do that.\n",
    "\n",
    "\tAdd code outside the class so you can run this file and get the same output you got in the prototype.\n",
    "\n",
    "3.  Modify `pred_one_user` to replace the missing values with something numerical. `numpy.nan_to_num` is a good option for this.\n",
    "\n",
    "4.  Add a `pred_all_users` method. The output should be a 2-dimensional array with the same shape as the matrix of actual ratings. Accomplish this by calling your `pred_one_user` method repeatedly.\n",
    "\n",
    "5.  In a live setting, we'd have to be able to make recommendations for a single user quickly. Add an optional argument to pred_one_user that indicates whether to print the running time.  This argument should default to False.  Add `from time import time` to the imports part of this file. Add the functionality in `pred_one_user` to print running time when requested. Which configurations of your recommender result in shorter times? What things could you compute in advance to make your recommender more performant? What are the downsides of this pre-computing?\n",
    "\n",
    "6.  Add a method to return the indices (column numbers) of the top n recommendations for a user.  Exclude items the user has already rated. This method should take the user_id and n as arguments.  It should return a list. Use `np.argsort`. Then be careful to preserve that ordering when you remove the already-rated items.\n",
    "\n",
    "7.  What do you think are the major shortcomings of the current recommender?  Write your answer in `explanations.txt`. If you have any ideas, suggest possible remedies.\n",
    "\n",
    "## Bonus\n",
    "You've built something cool. Play with it. For example, get recommendations for a user and see the predicted ratings for those recommendations. Try recommenders with differing neighborhood sizes. What happens to the distribution of recommendations as neighborhood size increases? Don't put anything from this step in your pull request."
   ]
  },
  {
   "cell_type": "code",
   "execution_count": null,
   "metadata": {
    "collapsed": true
   },
   "outputs": [],
   "source": []
  }
 ],
 "metadata": {
  "kernelspec": {
   "display_name": "Python 2",
   "language": "python",
   "name": "python2"
  },
  "language_info": {
   "codemirror_mode": {
    "name": "ipython",
    "version": 2
   },
   "file_extension": ".py",
   "mimetype": "text/x-python",
   "name": "python",
   "nbconvert_exporter": "python",
   "pygments_lexer": "ipython2",
   "version": "2.7.10"
  }
 },
 "nbformat": 4,
 "nbformat_minor": 0
}
