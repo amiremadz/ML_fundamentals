{
 "cells": [
  {
   "cell_type": "markdown",
   "metadata": {},
   "source": [
    "RAT 8.1\n",
    "Suppose you have a coin and are trying to estimate the true probability of getting heads p.\n",
    "Do you remember how frequentist statistics treats finding this probability?\n",
    "How does Bayesian stats treat them?\n",
    "\n",
    "If you flip the coin many many times and take the number of heads, how would a frequentist use this number to estimate p? How would a Bayesian statistician use it?\n",
    "\n",
    "Extra:\n",
    "\n",
    "Explain what a logistic regression classifier is and how to evaluate it to an engineer who doesn't know stats that well."
   ]
  },
  {
   "cell_type": "code",
   "execution_count": null,
   "metadata": {
    "collapsed": true
   },
   "outputs": [],
   "source": [
    "#Answer1)\n",
    "\n",
    "frequentist stats: hypothesis test its estimates  standard errors or 95% confidence intervals. \n",
    "    \n",
    "Bayesian stats: Have prior  probablity, they update their onservation based on the sample.\n",
    "\n",
    "frequentist stats: Check the probablity of {H_0} (null hypothesis)parameter \n",
    "    fill in the distribution.Number of filps is used as sampling distribution. \n",
    "    \n",
    "Bayesian stats : Based on data updates the prior distribution\n"
   ]
  },
  {
   "cell_type": "code",
   "execution_count": null,
   "metadata": {
    "collapsed": true
   },
   "outputs": [],
   "source": [
    "Logistic Rregression classifies things in 2 categories which is boolean or as true or false.\n",
    "For example you are classifying whether the sentiment is positive or negative using logistic\n",
    "regression classifier."
   ]
  }
 ],
 "metadata": {
  "kernelspec": {
   "display_name": "Python 2",
   "language": "python",
   "name": "python2"
  },
  "language_info": {
   "codemirror_mode": {
    "name": "ipython",
    "version": 2
   },
   "file_extension": ".py",
   "mimetype": "text/x-python",
   "name": "python",
   "nbconvert_exporter": "python",
   "pygments_lexer": "ipython2",
   "version": "2.7.10"
  }
 },
 "nbformat": 4,
 "nbformat_minor": 0
}
