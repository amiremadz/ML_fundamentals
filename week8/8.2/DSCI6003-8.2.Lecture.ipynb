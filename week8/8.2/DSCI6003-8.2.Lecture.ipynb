{
 "cells": [
  {
   "cell_type": "markdown",
   "metadata": {},
   "source": [
    "# Decomposing Factorization"
   ]
  },
  {
   "cell_type": "markdown",
   "metadata": {},
   "source": [
    "### Example Dataset\n",
    "\n",
    "Let's look at users ratings of different movies. The ratings are from 1-5. A rating of 0 means the user hasn't watched the movie.\n",
    "\n",
    "|       | Matrix | Alien | StarWars | Casablanca | Titanic |\n",
    "| ----- | ------ | ----- | -------- | ---------- | ------ |\n",
    "| **Alice** |      1 |     2 |        2 |          0 |      0 |\n",
    "|   **Bob** |      3 |     5 |        5 |          0 |      0 |\n",
    "| **Cindy** |      4 |     4 |        4 |          0 |      0 |\n",
    "|   **Dan** |      5 |     5 |        5 |          0 |      0 |\n",
    "| **Emily** |      0 |     2 |        0 |          4 |      4 |\n",
    "| **Frank** |      0 |     0 |        0 |          5 |      5 |\n",
    "|  **Greg** |      0 |     1 |        0 |          2 |      2 |"
   ]
  },
  {
   "cell_type": "code",
   "execution_count": 109,
   "metadata": {
    "collapsed": false
   },
   "outputs": [],
   "source": [
    "import pandas as pd\n",
    "import numpy as np\n",
    "import matplotlib.pyplot as plt\n",
    "%matplotlib inline"
   ]
  },
  {
   "cell_type": "code",
   "execution_count": 116,
   "metadata": {
    "collapsed": false
   },
   "outputs": [],
   "source": [
    "M = np.array([[1, 2, 2, 0, 0],\n",
    "              [3, 5, 5, 0, 0],\n",
    "              [4, 4, 4, 0, 0],\n",
    "              [5, 5, 5, 0, 0],\n",
    "              [0, 2, 0, 4, 4],\n",
    "              [0, 0, 0, 5, 5],\n",
    "              [0, 1, 0, 2, 2]])\n",
    "\n",
    "# Make interpretable\n",
    "movies = ['Matrix','Alien','StarWars','Casablanca','Titanic']\n",
    "users = ['Alice','Bob','Cindy','Dan','Emily','Frank','Greg']"
   ]
  },
  {
   "cell_type": "markdown",
   "metadata": {},
   "source": [
    "## PCA for Dimensionality Reduction"
   ]
  },
  {
   "cell_type": "markdown",
   "metadata": {},
   "source": [
    "In PCA, we have the following:\n",
    "\n",
    "\\begin{align*}\n",
    "M^TMV &= V\\Lambda \\\\\n",
    "\\text{where } \\Lambda &\\text{ is the diagonal matrix of eigenvalues.}\n",
    "\\end{align*}\n",
    "\n",
    "As According to SVD we have:\n",
    "\n",
    "Now, we can get the following:\n",
    "\n",
    "\\begin{align*}\n",
    "M^TM &= (U \\Sigma V^T)^T U \\Sigma V^T \\\\\n",
    "&= V \\Sigma^T U^T U \\Sigma V^T \\\\\n",
    "&= V \\Sigma^2 V^T\n",
    "\\end{align*}\n",
    "\n",
    "Note that this is the same equation as with PCA, we just have:\n",
    "\n",
    "$\\Lambda = \\Sigma^2$."
   ]
  },
  {
   "cell_type": "code",
   "execution_count": 128,
   "metadata": {
    "collapsed": false
   },
   "outputs": [
    {
     "data": {
      "text/html": [
       "<div>\n",
       "<table border=\"1\" class=\"dataframe\">\n",
       "  <thead>\n",
       "    <tr style=\"text-align: right;\">\n",
       "      <th></th>\n",
       "      <th>0</th>\n",
       "      <th>1</th>\n",
       "      <th>2</th>\n",
       "      <th>3</th>\n",
       "      <th>4</th>\n",
       "    </tr>\n",
       "  </thead>\n",
       "  <tbody>\n",
       "    <tr>\n",
       "      <th>0</th>\n",
       "      <td>0.44</td>\n",
       "      <td>0.45</td>\n",
       "      <td>0.46</td>\n",
       "      <td>-0.44</td>\n",
       "      <td>-0.44</td>\n",
       "    </tr>\n",
       "    <tr>\n",
       "      <th>1</th>\n",
       "      <td>-0.44</td>\n",
       "      <td>-0.36</td>\n",
       "      <td>-0.28</td>\n",
       "      <td>-0.55</td>\n",
       "      <td>-0.55</td>\n",
       "    </tr>\n",
       "    <tr>\n",
       "      <th>2</th>\n",
       "      <td>0.69</td>\n",
       "      <td>-0.72</td>\n",
       "      <td>-0.02</td>\n",
       "      <td>-0.04</td>\n",
       "      <td>-0.04</td>\n",
       "    </tr>\n",
       "    <tr>\n",
       "      <th>3</th>\n",
       "      <td>0.37</td>\n",
       "      <td>0.38</td>\n",
       "      <td>-0.84</td>\n",
       "      <td>-0.06</td>\n",
       "      <td>-0.06</td>\n",
       "    </tr>\n",
       "    <tr>\n",
       "      <th>4</th>\n",
       "      <td>-0.00</td>\n",
       "      <td>0.00</td>\n",
       "      <td>0.00</td>\n",
       "      <td>0.71</td>\n",
       "      <td>-0.71</td>\n",
       "    </tr>\n",
       "  </tbody>\n",
       "</table>\n",
       "</div>"
      ],
      "text/plain": [
       "      0     1     2     3     4\n",
       "0  0.44  0.45  0.46 -0.44 -0.44\n",
       "1 -0.44 -0.36 -0.28 -0.55 -0.55\n",
       "2  0.69 -0.72 -0.02 -0.04 -0.04\n",
       "3  0.37  0.38 -0.84 -0.06 -0.06\n",
       "4 -0.00  0.00  0.00  0.71 -0.71"
      ]
     },
     "execution_count": 128,
     "metadata": {},
     "output_type": "execute_result"
    }
   ],
   "source": [
    "from sklearn.decomposition import PCA\n",
    "from sklearn.preprocessing import StandardScaler\n",
    "\n",
    "scaler = StandardScaler()\n",
    "\n",
    "M_scaled = scaler.fit_transform(M)\n",
    "\n",
    "pca = PCA()\n",
    "V_pca = pca.fit_transform(M_scaled)\n",
    "pd.DataFrame(np.around(pca.components_, 2))"
   ]
  },
  {
   "cell_type": "code",
   "execution_count": 129,
   "metadata": {
    "collapsed": false
   },
   "outputs": [
    {
     "name": "stdout",
     "output_type": "stream",
     "text": [
      "[[ 0.27  1.23  0.04 -0.1   0.  ]\n",
      " [ 2.09 -0.18 -0.48 -0.26  0.  ]\n",
      " [ 1.86 -0.09  0.28  0.11  0.  ]\n",
      " [ 2.54 -0.64  0.23  0.12  0.  ]\n",
      " [-2.16 -0.49 -0.43  0.23  0.  ]\n",
      " [-3.09 -0.65  0.32 -0.25  0.  ]\n",
      " [-1.51  0.81  0.04  0.15  0.  ]]\n",
      "\n",
      "[[ 0.27  1.23  0.04 -0.1   0.  ]\n",
      " [ 2.09 -0.18 -0.48 -0.26  0.  ]\n",
      " [ 1.86 -0.09  0.28  0.11  0.  ]\n",
      " [ 2.54 -0.64  0.23  0.12  0.  ]\n",
      " [-2.16 -0.49 -0.43  0.23  0.  ]\n",
      " [-3.09 -0.65  0.32 -0.25  0.  ]\n",
      " [-1.51  0.81  0.04  0.15  0.  ]]\n"
     ]
    }
   ],
   "source": [
    "print np.around(V_pca, 2)\n",
    "print\n",
    "print np.around(np.dot(M_scaled, pca.components_.T), 2)"
   ]
  },
  {
   "cell_type": "markdown",
   "metadata": {},
   "source": [
    "## SVD for Topic Analysis\n",
    "\n",
    "We can use SVD to determine what we call ***latent features***. This will be best demonstrated with an example.\n",
    "\n",
    "Note that the first three movies (Matrix, Alien, Serenity) are Sci-fi movies and the last two (Casablanca, Amelie) are Romance. We will be able to mathematically pull out these topics!\n",
    "\n",
    "Let's do the computation with Python."
   ]
  },
  {
   "cell_type": "code",
   "execution_count": 59,
   "metadata": {
    "collapsed": false,
    "scrolled": true
   },
   "outputs": [],
   "source": [
    "# Compute SVD\n",
    "from numpy.linalg import svd\n",
    "\n",
    "U, sigma, VT = svd(M_scaled)"
   ]
  },
  {
   "cell_type": "code",
   "execution_count": 60,
   "metadata": {
    "collapsed": false
   },
   "outputs": [
    {
     "data": {
      "text/html": [
       "<div>\n",
       "<table border=\"1\" class=\"dataframe\">\n",
       "  <thead>\n",
       "    <tr style=\"text-align: right;\">\n",
       "      <th></th>\n",
       "      <th>0</th>\n",
       "      <th>1</th>\n",
       "      <th>2</th>\n",
       "      <th>3</th>\n",
       "      <th>4</th>\n",
       "    </tr>\n",
       "  </thead>\n",
       "  <tbody>\n",
       "    <tr>\n",
       "      <th>0</th>\n",
       "      <td>5.55</td>\n",
       "      <td>0.00</td>\n",
       "      <td>0.00</td>\n",
       "      <td>0.00</td>\n",
       "      <td>0</td>\n",
       "    </tr>\n",
       "    <tr>\n",
       "      <th>1</th>\n",
       "      <td>0.00</td>\n",
       "      <td>1.81</td>\n",
       "      <td>0.00</td>\n",
       "      <td>0.00</td>\n",
       "      <td>0</td>\n",
       "    </tr>\n",
       "    <tr>\n",
       "      <th>2</th>\n",
       "      <td>0.00</td>\n",
       "      <td>0.00</td>\n",
       "      <td>0.81</td>\n",
       "      <td>0.00</td>\n",
       "      <td>0</td>\n",
       "    </tr>\n",
       "    <tr>\n",
       "      <th>3</th>\n",
       "      <td>0.00</td>\n",
       "      <td>0.00</td>\n",
       "      <td>0.00</td>\n",
       "      <td>0.49</td>\n",
       "      <td>0</td>\n",
       "    </tr>\n",
       "    <tr>\n",
       "      <th>4</th>\n",
       "      <td>0.00</td>\n",
       "      <td>0.00</td>\n",
       "      <td>0.00</td>\n",
       "      <td>0.00</td>\n",
       "      <td>0</td>\n",
       "    </tr>\n",
       "  </tbody>\n",
       "</table>\n",
       "</div>"
      ],
      "text/plain": [
       "      0     1     2     3  4\n",
       "0  5.55  0.00  0.00  0.00  0\n",
       "1  0.00  1.81  0.00  0.00  0\n",
       "2  0.00  0.00  0.81  0.00  0\n",
       "3  0.00  0.00  0.00  0.49  0\n",
       "4  0.00  0.00  0.00  0.00  0"
      ]
     },
     "execution_count": 60,
     "metadata": {},
     "output_type": "execute_result"
    }
   ],
   "source": [
    "U, sigma, VT = (np.around(x, 2) for x in (U, sigma, VT))\n",
    "\n",
    "U = pd.DataFrame(U, index=users)\n",
    "VT = pd.DataFrame(VT, columns=movies)\n",
    "\n",
    "sigma_df = pd.DataFrame(np.diag(sigma))\n",
    "sigma_df"
   ]
  },
  {
   "cell_type": "code",
   "execution_count": 61,
   "metadata": {
    "collapsed": false
   },
   "outputs": [
    {
     "data": {
      "text/html": [
       "<div>\n",
       "<table border=\"1\" class=\"dataframe\">\n",
       "  <thead>\n",
       "    <tr style=\"text-align: right;\">\n",
       "      <th></th>\n",
       "      <th>0</th>\n",
       "      <th>1</th>\n",
       "      <th>2</th>\n",
       "      <th>3</th>\n",
       "      <th>4</th>\n",
       "      <th>5</th>\n",
       "      <th>6</th>\n",
       "    </tr>\n",
       "  </thead>\n",
       "  <tbody>\n",
       "    <tr>\n",
       "      <th>Alice</th>\n",
       "      <td>0.05</td>\n",
       "      <td>-0.68</td>\n",
       "      <td>-0.05</td>\n",
       "      <td>0.21</td>\n",
       "      <td>-0.29</td>\n",
       "      <td>0.30</td>\n",
       "      <td>-0.56</td>\n",
       "    </tr>\n",
       "    <tr>\n",
       "      <th>Bob</th>\n",
       "      <td>0.38</td>\n",
       "      <td>0.10</td>\n",
       "      <td>0.59</td>\n",
       "      <td>0.52</td>\n",
       "      <td>-0.34</td>\n",
       "      <td>0.14</td>\n",
       "      <td>0.30</td>\n",
       "    </tr>\n",
       "    <tr>\n",
       "      <th>Cindy</th>\n",
       "      <td>0.33</td>\n",
       "      <td>0.05</td>\n",
       "      <td>-0.35</td>\n",
       "      <td>-0.22</td>\n",
       "      <td>-0.71</td>\n",
       "      <td>-0.46</td>\n",
       "      <td>0.04</td>\n",
       "    </tr>\n",
       "    <tr>\n",
       "      <th>Dan</th>\n",
       "      <td>0.46</td>\n",
       "      <td>0.35</td>\n",
       "      <td>-0.28</td>\n",
       "      <td>-0.25</td>\n",
       "      <td>-0.01</td>\n",
       "      <td>0.72</td>\n",
       "      <td>-0.06</td>\n",
       "    </tr>\n",
       "    <tr>\n",
       "      <th>Emily</th>\n",
       "      <td>-0.39</td>\n",
       "      <td>0.27</td>\n",
       "      <td>0.54</td>\n",
       "      <td>-0.47</td>\n",
       "      <td>-0.38</td>\n",
       "      <td>0.13</td>\n",
       "      <td>-0.33</td>\n",
       "    </tr>\n",
       "    <tr>\n",
       "      <th>Frank</th>\n",
       "      <td>-0.56</td>\n",
       "      <td>0.36</td>\n",
       "      <td>-0.40</td>\n",
       "      <td>0.51</td>\n",
       "      <td>-0.32</td>\n",
       "      <td>0.19</td>\n",
       "      <td>0.01</td>\n",
       "    </tr>\n",
       "    <tr>\n",
       "      <th>Greg</th>\n",
       "      <td>-0.27</td>\n",
       "      <td>-0.45</td>\n",
       "      <td>-0.04</td>\n",
       "      <td>-0.30</td>\n",
       "      <td>-0.21</td>\n",
       "      <td>0.33</td>\n",
       "      <td>0.69</td>\n",
       "    </tr>\n",
       "  </tbody>\n",
       "</table>\n",
       "</div>"
      ],
      "text/plain": [
       "          0     1     2     3     4     5     6\n",
       "Alice  0.05 -0.68 -0.05  0.21 -0.29  0.30 -0.56\n",
       "Bob    0.38  0.10  0.59  0.52 -0.34  0.14  0.30\n",
       "Cindy  0.33  0.05 -0.35 -0.22 -0.71 -0.46  0.04\n",
       "Dan    0.46  0.35 -0.28 -0.25 -0.01  0.72 -0.06\n",
       "Emily -0.39  0.27  0.54 -0.47 -0.38  0.13 -0.33\n",
       "Frank -0.56  0.36 -0.40  0.51 -0.32  0.19  0.01\n",
       "Greg  -0.27 -0.45 -0.04 -0.30 -0.21  0.33  0.69"
      ]
     },
     "execution_count": 61,
     "metadata": {},
     "output_type": "execute_result"
    }
   ],
   "source": [
    "U"
   ]
  },
  {
   "cell_type": "code",
   "execution_count": 62,
   "metadata": {
    "collapsed": false
   },
   "outputs": [
    {
     "data": {
      "text/html": [
       "<div>\n",
       "<table border=\"1\" class=\"dataframe\">\n",
       "  <thead>\n",
       "    <tr style=\"text-align: right;\">\n",
       "      <th></th>\n",
       "      <th>Matrix</th>\n",
       "      <th>Alien</th>\n",
       "      <th>StarWars</th>\n",
       "      <th>Casablanca</th>\n",
       "      <th>Titanic</th>\n",
       "    </tr>\n",
       "  </thead>\n",
       "  <tbody>\n",
       "    <tr>\n",
       "      <th>0</th>\n",
       "      <td>0.44</td>\n",
       "      <td>0.45</td>\n",
       "      <td>0.46</td>\n",
       "      <td>-0.44</td>\n",
       "      <td>-0.44</td>\n",
       "    </tr>\n",
       "    <tr>\n",
       "      <th>1</th>\n",
       "      <td>0.44</td>\n",
       "      <td>0.36</td>\n",
       "      <td>0.28</td>\n",
       "      <td>0.55</td>\n",
       "      <td>0.55</td>\n",
       "    </tr>\n",
       "    <tr>\n",
       "      <th>2</th>\n",
       "      <td>-0.69</td>\n",
       "      <td>0.72</td>\n",
       "      <td>0.02</td>\n",
       "      <td>0.04</td>\n",
       "      <td>0.04</td>\n",
       "    </tr>\n",
       "    <tr>\n",
       "      <th>3</th>\n",
       "      <td>-0.37</td>\n",
       "      <td>-0.38</td>\n",
       "      <td>0.84</td>\n",
       "      <td>0.06</td>\n",
       "      <td>0.06</td>\n",
       "    </tr>\n",
       "    <tr>\n",
       "      <th>4</th>\n",
       "      <td>0.00</td>\n",
       "      <td>0.00</td>\n",
       "      <td>0.00</td>\n",
       "      <td>-0.71</td>\n",
       "      <td>0.71</td>\n",
       "    </tr>\n",
       "  </tbody>\n",
       "</table>\n",
       "</div>"
      ],
      "text/plain": [
       "   Matrix  Alien  StarWars  Casablanca  Titanic\n",
       "0    0.44   0.45      0.46       -0.44    -0.44\n",
       "1    0.44   0.36      0.28        0.55     0.55\n",
       "2   -0.69   0.72      0.02        0.04     0.04\n",
       "3   -0.37  -0.38      0.84        0.06     0.06\n",
       "4    0.00   0.00      0.00       -0.71     0.71"
      ]
     },
     "execution_count": 62,
     "metadata": {},
     "output_type": "execute_result"
    }
   ],
   "source": [
    "VT"
   ]
  },
  {
   "cell_type": "markdown",
   "metadata": {},
   "source": [
    "### Explained Variance Ratio"
   ]
  },
  {
   "cell_type": "code",
   "execution_count": 95,
   "metadata": {
    "collapsed": false
   },
   "outputs": [
    {
     "data": {
      "text/plain": [
       "array([ 0.88070554,  0.97437584,  0.99313506,  1.        ,  1.        ])"
      ]
     },
     "execution_count": 95,
     "metadata": {},
     "output_type": "execute_result"
    }
   ],
   "source": [
    "# Power\n",
    "# singular values are square roots of eigenvalues\n",
    "total_power = np.sum(sigma**2)\n",
    "total_power\n",
    "\n",
    "fraction_power = np.cumsum(sigma**2) / total_power\n",
    "fraction_power"
   ]
  },
  {
   "cell_type": "code",
   "execution_count": 45,
   "metadata": {
    "collapsed": false
   },
   "outputs": [
    {
     "name": "stdout",
     "output_type": "stream",
     "text": [
      "          0     1\n",
      "Alice -0.21  0.02\n",
      "Bob   -0.55  0.06\n",
      "Cindy -0.50  0.07\n",
      "Dan   -0.62  0.08\n",
      "Emily -0.12 -0.60\n",
      "Frank -0.04 -0.73\n",
      "Greg  -0.06 -0.30\n",
      "[ 13.84   9.52]\n",
      "   Matrix  Alien  StarWars  Casablanca  Titanic\n",
      "0   -0.50  -0.62     -0.60       -0.06    -0.06\n",
      "1    0.09  -0.05      0.11       -0.70    -0.70\n"
     ]
    }
   ],
   "source": [
    "# Keep only top two concepts\n",
    "U = U.iloc[:,:2]\n",
    "sigma = sigma[:2]\n",
    "VT = VT.iloc[:2,:]\n",
    "\n",
    "print U\n",
    "print sigma\n",
    "print VT"
   ]
  },
  {
   "cell_type": "code",
   "execution_count": 49,
   "metadata": {
    "collapsed": false
   },
   "outputs": [
    {
     "data": {
      "text/html": [
       "<div style=\"max-height:1000px;max-width:1500px;overflow:auto;\">\n",
       "<table border=\"1\" class=\"dataframe\">\n",
       "  <thead>\n",
       "    <tr style=\"text-align: right;\">\n",
       "      <th></th>\n",
       "      <th>Matrix</th>\n",
       "      <th>Alien</th>\n",
       "      <th>StarWars</th>\n",
       "      <th>Casablanca</th>\n",
       "      <th>Titanic</th>\n",
       "    </tr>\n",
       "  </thead>\n",
       "  <tbody>\n",
       "    <tr>\n",
       "      <th>Alice</th>\n",
       "      <td> 1</td>\n",
       "      <td> 2</td>\n",
       "      <td> 2</td>\n",
       "      <td> 0</td>\n",
       "      <td> 0</td>\n",
       "    </tr>\n",
       "    <tr>\n",
       "      <th>Bob</th>\n",
       "      <td> 4</td>\n",
       "      <td> 5</td>\n",
       "      <td> 5</td>\n",
       "      <td> 0</td>\n",
       "      <td> 0</td>\n",
       "    </tr>\n",
       "    <tr>\n",
       "      <th>Cindy</th>\n",
       "      <td> 4</td>\n",
       "      <td> 4</td>\n",
       "      <td> 4</td>\n",
       "      <td>-0</td>\n",
       "      <td>-0</td>\n",
       "    </tr>\n",
       "    <tr>\n",
       "      <th>Dan</th>\n",
       "      <td> 4</td>\n",
       "      <td> 5</td>\n",
       "      <td> 5</td>\n",
       "      <td>-0</td>\n",
       "      <td>-0</td>\n",
       "    </tr>\n",
       "    <tr>\n",
       "      <th>Emily</th>\n",
       "      <td> 0</td>\n",
       "      <td> 1</td>\n",
       "      <td> 0</td>\n",
       "      <td> 4</td>\n",
       "      <td> 4</td>\n",
       "    </tr>\n",
       "    <tr>\n",
       "      <th>Frank</th>\n",
       "      <td>-0</td>\n",
       "      <td> 1</td>\n",
       "      <td>-0</td>\n",
       "      <td> 5</td>\n",
       "      <td> 5</td>\n",
       "    </tr>\n",
       "    <tr>\n",
       "      <th>Greg</th>\n",
       "      <td> 0</td>\n",
       "      <td> 1</td>\n",
       "      <td> 0</td>\n",
       "      <td> 2</td>\n",
       "      <td> 2</td>\n",
       "    </tr>\n",
       "  </tbody>\n",
       "</table>\n",
       "</div>"
      ],
      "text/plain": [
       "       Matrix  Alien  StarWars  Casablanca  Titanic\n",
       "Alice       1      2         2           0        0\n",
       "Bob         4      5         5           0        0\n",
       "Cindy       4      4         4          -0       -0\n",
       "Dan         4      5         5          -0       -0\n",
       "Emily       0      1         0           4        4\n",
       "Frank      -0      1        -0           5        5\n",
       "Greg        0      1         0           2        2"
      ]
     },
     "execution_count": 49,
     "metadata": {},
     "output_type": "execute_result"
    }
   ],
   "source": [
    "# Check the reconstruction\n",
    "\n",
    "np.around(U.dot(np.diag(sigma)).dot(VT))"
   ]
  },
  {
   "cell_type": "markdown",
   "metadata": {},
   "source": [
    "### PCA vs. SVD\n",
    "\n",
    "#### Applications of SVD\n",
    "\n",
    "1. Determining range, null space and rank (also numerical rank).\n",
    "2. Matrix approximation.\n",
    "3. Inverse and Pseudo-inverse.\n",
    "4. Least squares\n",
    "5. Denoising – Small singular values typically correspond to noise. Take the matrix whose columns are the signals, compute SVD, zero small singular values, and reconstruct.\n",
    "6. Compression.\n",
    "\n",
    "#### Why not PCA?\n",
    "\n",
    "* Covariance matrix can be huge (if number of features is large [which is why we are probably doing dimensionality reduction])\n",
    "    * Eigenvectors/values computationally intractable\n",
    "* Not every matrix has an eigen-decomposition, but every matrix has an SVD\n",
    "* Computing SVD more numerically stable\n",
    "* \"Holistic\" and can be difficult to interpret\n",
    "* Non-iterative\n",
    "\n",
    "#### Why not PCA, SVD, or NMF?\n",
    "\n",
    "* Usually computationally intractable O(m ^ 3)"
   ]
  },
  {
   "cell_type": "markdown",
   "metadata": {},
   "source": [
    "## Stochastic Gradient Descent\n",
    "Minimize $F(x) = \\frac{1}{n}\\Sigma f_i(x)$\n",
    "\n",
    "$min_{q,p}\\hspace{1mm} \\Sigma_{u,i} (r_{(u,i)} - {p_u^T} q_i)^2$\n",
    "\n",
    "Initialize $x_0$  \n",
    "<br>\n",
    "For j = 1, 2, ..  \n",
    "$x^{(j + 1)} = x^{(j)} - \\gamma\\nabla f_i(x^{(j)})$\n",
    "\n",
    "* not practical when dealing with implicit datasets\n",
    "  * users times items in the order of billions"
   ]
  },
  {
   "cell_type": "markdown",
   "metadata": {
    "collapsed": true
   },
   "source": [
    "## Alternating Least Squares\n",
    "$M \\approx U_k V_k^T = Q$\n",
    "* U and V are \"skinny\" (low-rank)\n",
    "* Flexible\n",
    "  * customize exactly what is considered in the loss function\n",
    "    * ignore missing values (crucial)\n",
    "    * weight different $M_i,_j$ different\n",
    "* Faster than SVD\n",
    "  * Trivially parallel, iterative\n",
    "* Dumber than SVD\n",
    "  * No singular values or orthonormal basis  \n",
    "<br>\n",
    "* Choose k << m, n\n",
    "* Best Approximation Q\n",
    "  * Minimize L2 norm $||M-Q||_2$  \n",
    "<br>\n",
    "* Recommendations are **largest** values in Q"
   ]
  },
  {
   "cell_type": "markdown",
   "metadata": {},
   "source": [
    "## Non-negative Matrix Factorization\n",
    "* factors are strictly positive\n",
    "* good for matrix with positive values (TF, TF-IDF etc.)\n",
    "* factors are non-unique"
   ]
  },
  {
   "cell_type": "markdown",
   "metadata": {},
   "source": [
    "## Recommender Systems\n",
    "[Graphlab User Guide](https://dato.com/learn/userguide/)\n",
    "<img src=\"decisiontree.gif\">\n"
   ]
  },
  {
   "cell_type": "markdown",
   "metadata": {},
   "source": [
    "## Graphlab Recommender\n",
    "* Factorization Recommender\n",
    "* Item Similarity Recommender\n",
    "* Popularity Recommender\n",
    "* Ranking Factorization Recommender\n",
    "<br>\n",
    "* [Recommender Functionalities](https://dato.com/learn/gallery/notebooks/basic_recommender_functionalities.html)\n",
    "  * [Example](https://dato.com/learn/gallery/notebooks/recsys_rank_10K_song.html)"
   ]
  },
  {
   "cell_type": "markdown",
   "metadata": {},
   "source": [
    "### Normalization / Bias\n",
    "* Problem\n",
    "  * Some items are significantly higher rated\n",
    "  * Some users rate subtantially lower\n",
    "  * Ratings change over time\n",
    "* Bias correction is crucial\n",
    "  * Offset per user\n",
    "  * Offset per movie\n",
    "  * Time effects\n",
    "  * Global bias  \n",
    "\n",
    "<br> \n",
    "$b_{ui} = \\mu^{global} + b_u^{user} + b_i^{item}$\n",
    "<br>\n",
    "\n",
    "**New cost function**  \n",
    "\n",
    "$minimize_\\hspace{1mm}\\Sigma(r_{ui} - \\mu - b_u - b_i - <p_u,q_i>)^2 + \\lambda(||p||^2 + ||q||^2 + ||b_u||^2 + ||b_i||^2)$"
   ]
  },
  {
   "cell_type": "code",
   "execution_count": null,
   "metadata": {
    "collapsed": true
   },
   "outputs": [],
   "source": []
  }
 ],
 "metadata": {
  "kernelspec": {
   "display_name": "Python 2",
   "language": "python",
   "name": "python2"
  },
  "language_info": {
   "codemirror_mode": {
    "name": "ipython",
    "version": 2
   },
   "file_extension": ".py",
   "mimetype": "text/x-python",
   "name": "python",
   "nbconvert_exporter": "python",
   "pygments_lexer": "ipython2",
   "version": "2.7.10"
  }
 },
 "nbformat": 4,
 "nbformat_minor": 0
}
