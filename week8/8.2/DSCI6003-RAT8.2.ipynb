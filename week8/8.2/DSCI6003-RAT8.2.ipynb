{
 "cells": [
  {
   "cell_type": "markdown",
   "metadata": {},
   "source": [
    "RAT 8.2\n",
    "\n",
    "What is matrix factorization?\n",
    "How are latent features used to specify or produce a matrix factorization?\n",
    "\n",
    "Suppose you have a matrix where each row is a user and each column is a rating for a movie. What are some properties of this matrix? What challenges might arise in computing a matrix factorization? How is a matrix factorization used to guess a rating a user would give to a movie?\n",
    "\n",
    "Now suppose you also have timestamps of each user's rating. So now you can compute a series of such matrices. What issues might come up over time?\n",
    "\n",
    "----\n",
    "\n",
    "A Note from David:\n",
    "\n",
    "Hi everyone, \n",
    "\n",
    "it's my last day as your teaching assistant. I'm planning to start looking for a data engineer position in January. I think it will be realistic for me to find a junior/mid job maintaining and testing data pipelines in Scala on Spark, and of course if I need to work closely with Data Scientists or there is some machine learning component I can slot in more easily. I'll be around Galvanize while I look.\n",
    "\n",
    "I have enjoyed working with all of you. This has been a very chill job. To be challenged, to be questioned, to be pushed to provide an argument: they make me feel good and connected to others. I'm glad to have been able to work with you in this way.\n",
    "\n",
    "Some tips:\n",
    "Rather than worry about how you stand in terms of the job market, instead try to find something you like. Enthusiasm matters for a junior spot, and for your own sanity. The data scientist job market is quite varied. At the end of the day, day to day data science is extremely tedious. By the end of the program you'll all be able to do work at this level.\n",
    "\n",
    "Look forward to learning some things, including subtle issues that arrive that don't have much to do with modeling or deploying software: sampling issues, narratives, people skills, corporate data policies, etc.. Recall that many data scientists are investigators who present to \"important\" people. Recall that many of you are brought on for expertise in the entire data lifecycle, not just to tune some model like a chump. You are a political animal at the end of the day.\n",
    "\n",
    "Also, you have the best learning experience of all the Galvanize programs. Galvanize is a real machine. The immersive program churn out kids quite fast these days in several different tech hubs. You instead have a much stronger sense of continuity and connection, partly due to just how long this thing is, partly due to the hands-on lab work, partly due to you getting 12 hours of extended office hours with your teachers every week. Use the bonds you form during this time. There is something powerful about the human bond.\n",
    "\n",
    "Anyway, I'll be around galvanize for the rest of December and in January, so say hi.\n",
    "\n",
    "\\- David\n",
    "\n",
    "Dec. 15, 2015"
   ]
  },
  {
   "cell_type": "code",
   "execution_count": null,
   "metadata": {
    "collapsed": true
   },
   "outputs": [],
   "source": []
  }
 ],
 "metadata": {
  "kernelspec": {
   "display_name": "Python 2",
   "language": "python",
   "name": "python2"
  },
  "language_info": {
   "codemirror_mode": {
    "name": "ipython",
    "version": 2
   },
   "file_extension": ".py",
   "mimetype": "text/x-python",
   "name": "python",
   "nbconvert_exporter": "python",
   "pygments_lexer": "ipython2",
   "version": "2.7.10"
  }
 },
 "nbformat": 4,
 "nbformat_minor": 0
}
