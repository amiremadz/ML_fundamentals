{
 "cells": [
  {
<<<<<<< HEAD
   "cell_type": "markdown",
   "metadata": {},
   "source": [
    "Below is the equation:\n",
    "    \n",
    "   $ Y = \\hat{\\beta_{0}}+\\hat{\\beta_{1}}x_{1}+\\hat{\\beta_{2}}x_{2}+ \\cdots +\\hat{\\beta_{n}}x_{n}$\n",
    "   \n",
    "   IN OLS regression, model is linear with respect to the parameters.\n",
    "   \n",
    "  a) Here $\\beta_{0}$ is the intercept of the line of best fit.\n",
    "  b) Given all the parameters are constant with one unit experience in $\\beta_{k}$  there is increase in predicted \n",
    "  value by factor of $\\beta_{k}$\n",
    "  \n",
    "  \n",
    "PCA Regression has been touted in the past to be:\n",
    "1. A cure for multicollinearity  because the PCs are designed to be orthogonal. Supposedly this improves numerical accuracy (bias).\n",
    "2. A representative regression of the data because no matter how many PCs are used to regress, all the features are represented in the PCs."
   ]
  },
  {
   "cell_type": "markdown",
   "metadata": {},
   "source": [
    "Likeilihood :  $$L(\\beta) = \\prod_{i = 1}^{n} p(x_i)^{y_i} \\times (1 - p(x_i))^{1 - y_i}$$"
   ]
  },
  {
   "cell_type": "markdown",
   "metadata": {},
   "source": [
    "Log Likelihood :  $\\sum_{i = 1}^{n} y_i log(p(x_i)) + (1 - y_i) log(1 - p(x_i))$"
   ]
  },
  {
   "cell_type": "code",
   "execution_count": null,
   "metadata": {
    "collapsed": true
   },
   "outputs": [],
   "source": []
=======
   "cell_type": "raw",
   "metadata": {},
   "source": [
    "Rat 2.3 What is the interpretation of the coefficients in an OLS regression model? Is this interpretation the same for a PCA regression model?\n",
    "\n",
    "What is the Maximum Likelihood Estimation formulation of training a Logistic regression model? What is the log-odds formulation of the Logistic Regression model?"
   ]
>>>>>>> 765d16a3f77c0a29182ed45b6497c4fa0e3970a1
  }
 ],
 "metadata": {
  "kernelspec": {
   "display_name": "Python 2",
   "language": "python",
   "name": "python2"
  },
  "language_info": {
   "codemirror_mode": {
    "name": "ipython",
    "version": 2
   },
   "file_extension": ".py",
   "mimetype": "text/x-python",
   "name": "python",
   "nbconvert_exporter": "python",
   "pygments_lexer": "ipython2",
   "version": "2.7.10"
  }
 },
 "nbformat": 4,
 "nbformat_minor": 0
}
