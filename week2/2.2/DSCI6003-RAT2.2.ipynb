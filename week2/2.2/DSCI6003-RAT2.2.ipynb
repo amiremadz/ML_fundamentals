{
 "cells": [
  {
   "cell_type": "raw",
   "metadata": {},
   "source": [
    "RAT 2.2 What is the Maximum Likelihood Estimation formulation of training an Ordinary Least Squares regression model? What is the Loss function minimization formulation of OLS?\n",
    "Why do we consider log-Likelihood for OLS?"
   ]
  },
  {
   "cell_type": "markdown",
   "metadata": {},
   "source": [
    "The linear regression model : $y = b_0+b_1*x_1+b_2*x_2...   +b_n*x_n$\n",
    "\n",
    "Above is the hypothesis.\n",
    "\n",
    "LOSS function is we have to minimize the Sum of Square Residual difference . Which is the difference of observed value and predicted value.\n",
    "\n",
    "Cost function = $ \\sum(y-y_{pred})^2$"
   ]
  },
  {
   "cell_type": "code",
   "execution_count": null,
   "metadata": {
    "collapsed": true
   },
   "outputs": [],
   "source": [
    "We use log because taking log and differentiating to minimizing the SSR becomes easy in complex regular regression model with higher polynomial."
   ]
  }
 ],
 "metadata": {
  "kernelspec": {
   "display_name": "Python 2",
   "language": "python",
   "name": "python2"
  },
  "language_info": {
   "codemirror_mode": {
    "name": "ipython",
    "version": 2
   },
   "file_extension": ".py",
   "mimetype": "text/x-python",
   "name": "python",
   "nbconvert_exporter": "python",
   "pygments_lexer": "ipython2",
   "version": "2.7.10"
  }
 },
 "nbformat": 4,
 "nbformat_minor": 0
}
