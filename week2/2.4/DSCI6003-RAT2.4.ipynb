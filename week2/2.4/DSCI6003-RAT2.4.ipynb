{
 "cells": [
  {
   "cell_type": "code",
   "execution_count": null,
   "metadata": {
    "collapsed": true
   },
   "outputs": [],
   "source": [
    "Given a binary classification problem, what is a false positive? a false negative?\n",
    "What is a situation where having fewer false positives but more false negatives is ok? and vice versa? \n",
    "When is accuracy a good measure of classifier performance? When is it not?"
   ]
  },
  {
   "cell_type": "code",
   "execution_count": null,
   "metadata": {
    "collapsed": true
   },
   "outputs": [],
   "source": [
    "False Positive : False positive is the condition where inaccurately condition is predicted as true although\n",
    "    in reality it is not. Like in a medical diagnosis a test(some disease) is reported as positive although person was not having \n",
    "    that disease. In this case lesser the false positive better it is.\n",
    "    \n",
    "False Negative: It is incorrect negative predictions. Like  a test result indicates that a condition failed, \n",
    "    while it actually was successful. eg : A person diagnosis is having a disease but labeled as negative.\n",
    "\n"
   ]
  },
  {
   "cell_type": "code",
   "execution_count": null,
   "metadata": {
    "collapsed": true
   },
   "outputs": [],
   "source": [
    "Accuracy is not a good measure of performance when class is imbalanced.\n",
    "eg: If you are predicting a email as spam of ham on a dataset where 98% of emails are not spam. So you can get a \n",
    "    accuracy of 98% in this scenario but its not a good reflection or model because of the imbalanced data set.\n",
    "    \n",
    "Accuracy is good measure when the data for class is properly distributed and balanced.\n",
    "    \n"
   ]
  }
 ],
 "metadata": {
  "kernelspec": {
   "display_name": "Python 2",
   "language": "python",
   "name": "python2"
  },
  "language_info": {
   "codemirror_mode": {
    "name": "ipython",
    "version": 2
   },
   "file_extension": ".py",
   "mimetype": "text/x-python",
   "name": "python",
   "nbconvert_exporter": "python",
   "pygments_lexer": "ipython2",
   "version": "2.7.10"
  }
 },
 "nbformat": 4,
 "nbformat_minor": 0
}
