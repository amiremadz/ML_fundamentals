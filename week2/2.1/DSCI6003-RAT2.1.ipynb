{
 "cells": [
  {
   "cell_type": "raw",
   "metadata": {},
   "source": [
    "RAT 2.1\n",
    "What is the Naive Bayes Classification model?\n",
    "What is the Naive Bayes Assumption?"
   ]
  },
  {
   "cell_type": "code",
   "execution_count": null,
   "metadata": {
    "collapsed": true
   },
   "outputs": [],
   "source": [
    "It is one of the simpler supervised machine learning model. Its a probabilistic model based on the bayes theorem.\n",
    "\n",
    "P(A/B)=P(B/A)*P(A)/P(B)\n",
    "\n",
    "We calculate the prior which is P(A)\n",
    "We calculate likelihood which is P(B/A)\n",
    "\n",
    "and Posterior which is P(A/B)\n",
    "\n",
    "It is mainly used in text mining. eg : Like building a model to classify email as spam or not spam.\n"
   ]
  },
  {
   "cell_type": "markdown",
   "metadata": {},
   "source": []
  },
  {
   "cell_type": "code",
   "execution_count": null,
   "metadata": {
    "collapsed": true
   },
   "outputs": [],
   "source": [
    "Assumption of Naive Bayes :  Observations are independent."
   ]
  }
 ],
 "metadata": {
  "kernelspec": {
   "display_name": "Python 2",
   "language": "python",
   "name": "python2"
  },
  "language_info": {
   "codemirror_mode": {
    "name": "ipython",
    "version": 2
   },
   "file_extension": ".py",
   "mimetype": "text/x-python",
   "name": "python",
   "nbconvert_exporter": "python",
   "pygments_lexer": "ipython2",
   "version": "2.7.10"
  }
 },
 "nbformat": 4,
 "nbformat_minor": 0
}
