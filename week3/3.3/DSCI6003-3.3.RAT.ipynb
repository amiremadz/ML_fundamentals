{
 "cells": [
  {
   "cell_type": "markdown",
   "metadata": {},
   "source": [
    "#DSCI 6003 3.3 RAT\n",
    "\n",
    "1. How do you create a subclass in Python?\n",
    "2. Suppose I only have the first 4 of 6 BLUE assumptions. Should I regularize?\n",
    "3. Suppose we are comparing the edges of a squid diagram of a Lasso Regression vs. Ridge. What do they look like and why?"
   ]
  },
  {
   "cell_type": "code",
   "execution_count": null,
   "metadata": {
    "collapsed": true
   },
   "outputs": [],
   "source": [
    "#Answer1)\n",
    "\n",
    "To create the subclass we need to pass the object of Parent class to the child class.\n",
    "So child class will be able to inherit the properties of parent class.\n",
    "eg: below we are creating a Child as subclass and it is also overriding the get value method with its own implemantation.\n",
    "    \n",
    "\n",
    "class Parent(object):\n",
    "    def __init__(self):\n",
    "        self.value=5\n",
    "    \n",
    "    def get_value(self):\n",
    "        return self.value\n",
    "    \n",
    "class Child(Parent):\n",
    "    def get_value(self):\n",
    "        return self.value+1\n",
    "    \n",
    "    "
   ]
  },
  {
   "cell_type": "code",
   "execution_count": null,
   "metadata": {
    "collapsed": true
   },
   "outputs": [],
   "source": [
    "#Answer2)\n",
    "\n",
    "No\n"
   ]
  },
  {
   "cell_type": "code",
   "execution_count": null,
   "metadata": {
    "collapsed": true
   },
   "outputs": [],
   "source": [
    "#Answer3)\n",
    "\n",
    "AS lambda increases they converge at same beta point.\n",
    "As lambda decreases they beta point separate from each other.\n",
    "\n",
    "In Lasso accuracy is predicted better if  increase in bias is less than  decrease in variance.\n",
    "\n",
    " In Ridge accuracy is predicted better  when  increase in bias is less than its decrease in variance.\n"
   ]
  }
 ],
 "metadata": {
  "kernelspec": {
   "display_name": "Python 2",
   "language": "python",
   "name": "python2"
  },
  "language_info": {
   "codemirror_mode": {
    "name": "ipython",
    "version": 2
   },
   "file_extension": ".py",
   "mimetype": "text/x-python",
   "name": "python",
   "nbconvert_exporter": "python",
   "pygments_lexer": "ipython2",
   "version": "2.7.10"
  }
 },
 "nbformat": 4,
 "nbformat_minor": 0
}
