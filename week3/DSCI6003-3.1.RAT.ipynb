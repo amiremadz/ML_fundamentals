{
 "cells": [
  {
   "cell_type": "code",
   "execution_count": null,
   "metadata": {
    "collapsed": true
   },
   "outputs": [],
   "source": [
    "ROC Curve :  Accuracy is measured by the area under the ROC curve. Its a plot between TRue positive rate and False positive rate.\n",
    "    \n",
    "Specivity and Sensitivity : In simple terms, high precision means that an algorithm returned substantially more relevant results than irrelevant, while high recall means that an algorithm returned most of the relevant results.\n",
    "    \n",
    "Single Measure Address both precision and recall: F score or harmonic mean\n",
    "    \n",
    "Differentiate between specivity and precision :Precision can be seen as a measure of exactness or quality, whereas recall is a measure of completeness or quantity.\n",
    "    \n",
    "    Precison = TP / (TP + FP)\n",
    "             = TP / (predicted yes)\n",
    "    Recall =   Recall = TP / (TP + FN) \n",
    "                         = TP / (actual yes)"
   ]
  }
 ],
 "metadata": {
  "kernelspec": {
   "display_name": "Python 2",
   "language": "python",
   "name": "python2"
  },
  "language_info": {
   "codemirror_mode": {
    "name": "ipython",
    "version": 2
   },
   "file_extension": ".py",
   "mimetype": "text/x-python",
   "name": "python",
   "nbconvert_exporter": "python",
   "pygments_lexer": "ipython2",
   "version": "2.7.10"
  }
 },
 "nbformat": 4,
 "nbformat_minor": 0
}
