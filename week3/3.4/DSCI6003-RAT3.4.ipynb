{
 "cells": [
  {
   "cell_type": "markdown",
   "metadata": {},
   "source": [
    "# RAT 3.4\n",
    "\n",
    "1) Given a finite dimensional vector space of dimension n, what is a hyperplane? \n",
    "\n",
    "2) What do hyperplanes in R**2 and R**3 look like?\n",
    "\n",
    "3) Given a hyperplane in R**2, what is the obvious classifer you can define with this hyperplane? Given a dataset in R**2, is there always a line that can separate the dataset into two groups?"
   ]
  },
  {
   "cell_type": "code",
   "execution_count": null,
   "metadata": {
    "collapsed": true
   },
   "outputs": [],
<<<<<<< HEAD
   "source": [
    "#Answer\n",
    "\n",
    "In n dimensional vector space a plane of dimension n-1 is called hyperplane.\n",
    "\n",
    "Hyperplanes in R^2 looks like : It will look like lines\n",
    "\n",
    "HYperplanes in R^3 looks like : It will be a 3 dimensional plane.\n",
    "\n",
    "We can have  classifiers like SVM,logistic regression\n",
    "\n",
    "GIven a dataset in R^2: Its not necessary to have a line that can separate the data set in two groups , it can be \n",
    "some non linear functions also.\n",
    "\n",
    "\n"
   ]
=======
   "source": []
>>>>>>> 3e8f603eb2f0cf00cb999bae8659bdc7e1cb1e4f
  }
 ],
 "metadata": {
  "kernelspec": {
   "display_name": "Python 2",
   "language": "python",
   "name": "python2"
  },
  "language_info": {
   "codemirror_mode": {
    "name": "ipython",
    "version": 2
   },
   "file_extension": ".py",
   "mimetype": "text/x-python",
   "name": "python",
   "nbconvert_exporter": "python",
   "pygments_lexer": "ipython2",
   "version": "2.7.10"
  }
 },
 "nbformat": 4,
 "nbformat_minor": 0
}
