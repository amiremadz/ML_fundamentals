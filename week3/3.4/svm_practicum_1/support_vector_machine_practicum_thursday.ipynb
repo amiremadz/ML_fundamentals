{
 "cells": [
  {
   "cell_type": "markdown",
   "metadata": {},
   "source": [
    "## Background\n",
    "\n",
    "Today we are going to implement kernels which then would be used for our Support Vector Machine implementation on Friday. \n",
    "\n",
    "Kernels transform the original feature space (X) to a higher dimensional space which allows better classification with SVM in the case of non-linearly separable data. \n",
    "\n",
    "<br>\n",
    "\n",
    "The following are a list of kernels we are going to implement:\n",
    "- __Linear__ \n",
    "\n",
    "  <img src=\"images/linear.png\" align=\"left\">\n",
    "  \n",
    "  <br>\n",
    "  \n",
    "  \n",
    "- __Polynomial (homogeneous)__ \n",
    "\n",
    "  <img src=\"images/poly.png\" align=\"left\">, where d > 1\n",
    "  \n",
    "  <br>\n",
    "\n",
    "- __Polynomial (inhomogeneous)__ \n",
    "\n",
    "  <img src=\"images/poly_imhomo.png\" align=\"left\">\n",
    "  \n",
    "  <br>\n",
    "\n",
    "\n",
    "- __Gaussian radial basis function__\n",
    "\n",
    "  <img src=\"images/gaussian.png\" align=\"left\">\n",
    "  \n",
    "  <br>\n",
    "\n",
    "\n",
    "- __Hyperbolic tangent__\n",
    "\n",
    "  <img src=\"images/tangent.png\" align=\"left\">\n",
    "  \n",
    "  <br>\n",
    "  <br>\n",
    "  \n",
    "The reason we have different kernel transformations is that in different situations, some kernels are going to give us better separation of features by class in SVM than others.\n",
    "\n",
    "\n",
    "<br>\n",
    "\n",
    "\n",
    "## Instructions\n",
    "\n",
    "1. Look at the `Kernel.py`. You will realize there are `@staticmethod` decorators. These are simply tags for you can define at the beginning of a function in your class to make it accessible without defining an instance of your class. For example:\n",
    "\n",
    "   ```python\n",
    "   k = Kernel.linear()\n",
    "   ```\n",
    "   \n",
    "   instead of \n",
    "   \n",
    "   ```python\n",
    "   k = Kernel()\n",
    "   k.linear()\n",
    "   ```\n",
    "\n",
    "   <br>\n",
    "\n",
    "2. From an implementation standpoint, kernel transformations apply a kernel function to every possible pairwise combination of data points in your feature space. Here we are going to just implement the kernel function that is apply to a pair of data points. \n",
    "\n",
    "   For example, `linear()` (which is already implemented for you) would return a function that would apply the linear kernel function to a pair of data points. Tomorrow we will use that function to complete the kernel which will form part of the SVM implementation."
   ]
  },
  {
   "cell_type": "code",
   "execution_count": 1,
   "metadata": {
    "collapsed": false
   },
   "outputs": [],
   "source": [
    "import Kernel \n",
    "import numpy as np\n"
   ]
  },
  {
   "cell_type": "code",
   "execution_count": 2,
   "metadata": {
    "collapsed": false
   },
   "outputs": [],
   "source": [
    "x=np.asarray([[2,3],[1,2]])\n",
    "y=np.asarray([[1,2],[1,1]])"
   ]
  },
  {
   "cell_type": "code",
   "execution_count": 3,
   "metadata": {
    "collapsed": false
   },
   "outputs": [],
   "source": [
    "z=Kernel.Kernel.linear()"
   ]
  },
  {
   "cell_type": "code",
   "execution_count": 4,
   "metadata": {
    "collapsed": false
   },
   "outputs": [
    {
     "data": {
      "text/plain": [
       "array([[8, 5],\n",
       "       [5, 3]])"
      ]
     },
     "execution_count": 4,
     "metadata": {},
     "output_type": "execute_result"
    }
   ],
   "source": [
    "z(x,y)"
   ]
  },
  {
   "cell_type": "code",
   "execution_count": null,
   "metadata": {
    "collapsed": false
   },
   "outputs": [],
   "source": []
  },
  {
   "cell_type": "code",
   "execution_count": null,
   "metadata": {
    "collapsed": true
   },
   "outputs": [],
   "source": []
  }
 ],
 "metadata": {
  "kernelspec": {
   "display_name": "Python 2",
   "language": "python",
   "name": "python2"
  },
  "language_info": {
   "codemirror_mode": {
    "name": "ipython",
    "version": 2
   },
   "file_extension": ".py",
   "mimetype": "text/x-python",
   "name": "python",
   "nbconvert_exporter": "python",
   "pygments_lexer": "ipython2",
   "version": "2.7.10"
  }
 },
 "nbformat": 4,
 "nbformat_minor": 0
}
